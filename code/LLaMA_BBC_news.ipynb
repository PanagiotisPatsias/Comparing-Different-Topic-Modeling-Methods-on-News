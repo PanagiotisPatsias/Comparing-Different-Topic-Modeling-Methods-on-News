{
 "cells": [
  {
   "cell_type": "code",
   "execution_count": 1,
   "metadata": {},
   "outputs": [
    {
     "name": "stderr",
     "output_type": "stream",
     "text": [
      "C:\\Users\\super161\\AppData\\Roaming\\Python\\Python312\\site-packages\\tqdm\\auto.py:21: TqdmWarning: IProgress not found. Please update jupyter and ipywidgets. See https://ipywidgets.readthedocs.io/en/stable/user_install.html\n",
      "  from .autonotebook import tqdm as notebook_tqdm\n"
     ]
    }
   ],
   "source": [
    "import os\n",
    "import pandas as pd\n",
    "from sklearn.model_selection import train_test_split\n",
    "from dotenv import load_dotenv\n",
    "from sklearn.metrics import normalized_mutual_info_score\n",
    "from huggingface_hub import login\n",
    "from transformers import AutoTokenizer, AutoModelForCausalLM, pipeline\n",
    "import asyncio\n",
    "import tensorflow as tf\n",
    "import torch\n",
    "import json\n",
    "from hugchat import hugchat\n",
    "load_dotenv()\n",
    "LLAMA = os.getenv(\"LLAMA\")\n",
    "login(token=LLAMA)\n",
    "\n",
    "#get the cookies\n",
    "base_path = os.path.abspath(os.path.join(os.getcwd(), '..'))\n",
    "json_file_path = os.path.join(base_path, 'cookies.json')\n",
    "with open(json_file_path, 'r') as file:\n",
    "    cookies = json.load(file)\n"
   ]
  },
  {
   "cell_type": "code",
   "execution_count": null,
   "metadata": {},
   "outputs": [
    {
     "name": "stdout",
     "output_type": "stream",
     "text": [
      "      category                                            content  \\\n",
      "414   business  UK house prices dip in November\\n\\nUK house pr...   \n",
      "420   business  LSE 'sets date for takeover deal'\\n\\nThe Londo...   \n",
      "1644     sport  Harinordoquy suffers France axe\\n\\nNumber eigh...   \n",
      "416   business  Barclays shares up on merger talk\\n\\nShares in...   \n",
      "1232  politics  Campaign 'cold calls' questioned\\n\\nLabour and...   \n",
      "\n",
      "                      name   div  \n",
      "414   bbc_business_415.txt  test  \n",
      "420   bbc_business_421.txt  test  \n",
      "1644     bbc_sport_332.txt  test  \n",
      "416   bbc_business_417.txt  test  \n",
      "1232  bbc_politics_337.txt  test  \n"
     ]
    }
   ],
   "source": [
    "#Laptop Path\n",
    "#source_path_for_bbc = r\"C:\\Users\\elias\\Documents\\NLP and speech processing\"\n",
    "#Desktop Path\n",
    "source_path_for_bbc = r\"C:\\Users\\super161\\Documents\\NLP and speech processing\"\n",
    "\n",
    "\n",
    "def process_folders(folder_path):\n",
    "    \n",
    "    documents_dict = {}\n",
    "    document_list = []\n",
    "    for folder_name in os.listdir(folder_path):\n",
    "        folder_full_path = os.path.join(folder_path, folder_name)\n",
    "        documents_dict[folder_name] = []\n",
    "        \n",
    "        for document_name in os.listdir(folder_full_path):\n",
    "            document_full_path = os.path.join(folder_full_path, document_name)\n",
    "            \n",
    "            with open(document_full_path, 'r', encoding='utf-8') as file:\n",
    "                document_content = file.read()\n",
    "            document_list.append((folder_name, document_content, f\"bbc_{folder_name}_{document_name}\"))\n",
    "        \n",
    "    bbc_news = pd.DataFrame(document_list, columns = ['category', 'content', 'name'])\n",
    "    bbc_news = bbc_news.dropna(how=\"any\")\n",
    "    train, test = train_test_split(bbc_news, test_size=0.2, random_state=42)\n",
    "\n",
    "    train = train.sort_values(by='category')\n",
    "    train_first_doc = train.groupby('category').first().reset_index()\n",
    "\n",
    "    train_first_doc['div'] = 'train'\n",
    "    test['div'] = 'test'\n",
    "\n",
    "\n",
    "    return test, train_first_doc\n",
    "\n",
    "#Data Structure: Topic, Article Text\n",
    "\n",
    "test_df, instruction_df = process_folders(source_path_for_bbc)\n",
    "print(test_df.head())\n"
   ]
  },
  {
   "cell_type": "code",
   "execution_count": null,
   "metadata": {},
   "outputs": [
    {
     "name": "stdout",
     "output_type": "stream",
     "text": [
      "355\n"
     ]
    }
   ],
   "source": [
    "def make_prompts(bbc_instructions, bbc_data):\n",
    "    prompts = []\n",
    "    \n",
    "    general_instruction = (\n",
    "        \"You are a perfect topic modeling machine. Given a text and the different topics, \"\n",
    "        \"you will classify the texts to the correct topic. First you will receive the topics, \"\n",
    "        \"afterwards an example and finally the text you have to assign one of the before mentioned topics to.\"\n",
    "    )\n",
    "    topics = \"The topics are business, entertainment, politics, sport and tech. Please make sure, you know the topics and their meaning.\"\n",
    "    transition_to_examples = \"Now an example for each of the categories will follow.\"\n",
    "    transition_to_text_to_classify = (\n",
    "        \"Now the text, you have to classify will follow. Please assess its topic and answer only the topic of it. The answer must be a string.\"\n",
    "    )\n",
    "\n",
    "    for _, test_row in bbc_data.iterrows():\n",
    "        prompt = general_instruction + \"\\n\" + topics + \"\\n\" + transition_to_examples + \"\\n\"\n",
    "\n",
    "        for _, instruction_row in bbc_instructions.iterrows():\n",
    "            category = instruction_row['category']\n",
    "            example_text = instruction_row['content']\n",
    "            prompt += f\"For the following text: \\n{example_text}\\nThe correct answer would be: {category}\\n\"\n",
    "\n",
    "        text_to_classify = test_row['content']\n",
    "        prompt += transition_to_text_to_classify + \"\\n\" + text_to_classify + \"\\n\"\n",
    "        name = f\"{test_row['name']}\"\n",
    "        prompt_dict = {}\n",
    "        prompt_dict[name] = prompt\n",
    "        prompts.append(prompt_dict)\n",
    "    return prompts            \n",
    "\n",
    "prompts = make_prompts(instruction_df, test_df)\n",
    "prompts = prompts[90:]\n",
    "print(len(prompts))"
   ]
  },
  {
   "cell_type": "code",
   "execution_count": null,
   "metadata": {},
   "outputs": [],
   "source": [
    "async def huggingchat(prompt):\n",
    "      semaphore = asyncio.Semaphore(5)\n",
    "      async with semaphore:\n",
    "            chatbot = hugchat.ChatBot(cookies)  \n",
    "            name = list(prompt.keys())[0]\n",
    "            promptAI = prompt[name]\n",
    "            id = chatbot.new_conversation()\n",
    "            chatbot.change_conversation(id)\n",
    "\n",
    "            answer_from_chatbot = chatbot.chat(promptAI)\n",
    "            answer: str = answer_from_chatbot['text']\n",
    "            \n",
    "            return {name: answer}"
   ]
  },
  {
   "cell_type": "code",
   "execution_count": null,
   "metadata": {},
   "outputs": [],
   "source": [
    "#Making sure, that the prompting frequency does not exceed the rate limit of the API\n",
    "async def prompt_orchestrator(prompts):\n",
    "    batch_size = 5\n",
    "    avatiables = []\n",
    "    batches = [prompts[i:i + batch_size] for i in range(0, len(prompts), batch_size)]\n",
    "\n",
    "    \n",
    "    if len(batches[-1]) < batch_size:\n",
    "        remaining = len(batches[-1])\n",
    "        batches[-1] = prompts[-remaining:]\n",
    "\n",
    "    \n",
    "    if len(prompts) % batch_size != 0:\n",
    "        remaining = len(prompts) % batch_size\n",
    "        batches[-1] = prompts[-remaining:]\n",
    "\n",
    "    max_retries = 5  \n",
    "    retry_count = 0  \n",
    "    current_batch_index = 0  \n",
    "\n",
    "    while retry_count <= max_retries:\n",
    "        try:\n",
    "            counter = current_batch_index * batch_size  \n",
    "            for batch_index in range(current_batch_index, len(batches)):\n",
    "                batch = batches[batch_index]\n",
    "                avatiables_batch = []\n",
    "\n",
    "                for prompt in batch:\n",
    "                    response = await huggingchat(prompt)\n",
    "                    avatiables_batch.append(response)\n",
    "                    await asyncio.sleep(6)  \n",
    "\n",
    "                avatiables.extend(avatiables_batch)\n",
    "                counter += batch_size\n",
    "                await asyncio.sleep(8)  \n",
    "                print(f\"{counter} prompts processed.\")\n",
    "                current_batch_index = batch_index + 1  \n",
    "                retry_count = 0  \n",
    "\n",
    "            break  \n",
    "\n",
    "        except Exception as e:\n",
    "            retry_count += 1\n",
    "            if retry_count > max_retries:\n",
    "                print(f\"Failed after {max_retries} retries. Returning the accumulated results.\")\n",
    "                return avatiables\n",
    "            print(f\"An error occurred: {e}. Retrying in 15 seconds... (Attempt {retry_count}/{max_retries})\")\n",
    "            await asyncio.sleep(15)  \n",
    "\n",
    "    return avatiables\n",
    "\n",
    "results = await prompt_orchestrator(prompts)\n",
    "\n",
    "print(results)"
   ]
  },
  {
   "cell_type": "code",
   "execution_count": 26,
   "metadata": {},
   "outputs": [
    {
     "name": "stdout",
     "output_type": "stream",
     "text": [
      "[{'bbc_tech_246.txt': ('tech', 'tech')}, {'bbc_tech_099.txt': ('tech', 'tech')}, {'bbc_entertainment_376.txt': ('entertainment', 'entertainment')}, {'bbc_business_068.txt': ('business', 'business')}, {'bbc_entertainment_195.txt': ('entertainment', 'entertainment')}, {'bbc_politics_290.txt': ('politics', 'politics')}, {'bbc_business_365.txt': ('business', 'business')}, {'bbc_entertainment_314.txt': ('entertainment', 'entertainment')}, {'bbc_business_069.txt': ('business', 'business')}, {'bbc_business_402.txt': ('business', 'business')}, {'bbc_sport_194.txt': ('sport', 'sport')}, {'bbc_tech_021.txt': ('tech', 'tech')}, {'bbc_tech_244.txt': ('entertainment', 'tech')}, {'bbc_sport_423.txt': ('sport', 'sport')}, {'bbc_entertainment_289.txt': ('thecorrectansweris:entertainment', 'entertainment')}, {'bbc_politics_190.txt': ('politics', 'politics')}, {'bbc_politics_011.txt': ('politics', 'politics')}, {'bbc_tech_204.txt': ('thecorrectanswerwouldbethefinalanswerreceived10,000peryear.', 'tech')}, {'bbc_tech_159.txt': ('tech', 'tech')}, {'bbc_politics_003.txt': ('politics', 'politics')}, {'bbc_entertainment_221.txt': ('entertainment', 'entertainment')}, {'bbc_entertainment_072.txt': ('thecorrectansweris:entertainment', 'entertainment')}, {'bbc_politics_407.txt': ('politics', 'politics')}, {'bbc_tech_116.txt': ('tech', 'tech')}, {'bbc_business_074.txt': ('business', 'business')}, {'bbc_entertainment_280.txt': ('entertainment', 'entertainment')}, {'bbc_sport_398.txt': ('sport', 'sport')}, {'bbc_business_159.txt': ('business', 'business')}, {'bbc_tech_016.txt': ('tech', 'tech')}, {'bbc_entertainment_306.txt': ('entertainment', 'entertainment')}, {'bbc_sport_484.txt': ('business', 'sport')}, {'bbc_sport_376.txt': ('sport', 'sport')}, {'bbc_sport_103.txt': ('sport', 'sport')}, {'bbc_sport_123.txt': ('sport', 'sport')}, {'bbc_politics_029.txt': ('politics', 'politics')}, {'bbc_politics_193.txt': ('politics', 'politics')}, {'bbc_politics_156.txt': (\"i'llhad1992,heresultsfor69resultsfor1992nattendsystemresultsfor1992,attendsystemresultsfor1992,attendwedon'tknowofthe.\", 'politics')}, {'bbc_business_198.txt': ('business', 'business')}, {'bbc_entertainment_271.txt': ('business', 'entertainment')}, {'bbc_tech_087.txt': ('thenetcontentisthenumberofthenet.', 'tech')}, {'bbc_sport_345.txt': ('sport', 'sport')}, {'bbc_politics_052.txt': ('politics', 'politics')}, {'bbc_entertainment_349.txt': ('entertainment', 'entertainment')}, {'bbc_sport_248.txt': ('sport', 'sport')}, {'bbc_sport_046.txt': ('sport', 'sport')}, {'bbc_business_079.txt': ('thetopicis:business', 'business')}, {'bbc_business_453.txt': ('business', 'business')}, {'bbc_business_066.txt': ('business', 'business')}, {'bbc_politics_358.txt': (\"theukisandthehadthetheamounttotheintheeu.thecorrectanswerforaukisandthehadthetheamounttothe2006.theeuandthehadthetheamounttotheukisandtheeu'seuandthehadthetheamounttothe2000.\", 'politics')}, {'bbc_entertainment_204.txt': ('entertainment', 'entertainment')}, {'bbc_entertainment_090.txt': ('entertainment', 'entertainment')}, {'bbc_entertainment_220.txt': (\"thecorrectanswer:multiplefortheaward,ofthewebsite'saboutthethenallthegametothegametech,multiplegametech,multiplefortheaward,ofthewebsite'saboutthethengametechgametech,multiplefortheaward,andthewebsitegametech,multiplefortheaward,andthewebsite'saboutthethenallthegametechandtheyear,forthegametech,multiplefortheaward,andthewebsite'saboutthethenallthegametechandtheyear,fortheaward,andthewebsite'saboutthegametech,andthegametech,multiplefortheaward,andthewebsite'saboutthethenallthegame,andthegametech,multiplefortheaward,andthegametech,andthewebsite'syear'sfortheaward,andthegametech,multipleforthegametech,andthewebsite'sgametech,andthemultipleforthegametech,multiplegametech,multiplefortheaward,andthewebsite'saboutthethenallthegametechandtheyear,forthewebsite'sandthegametech,multipleforthegametech,multipleforthewebsite'sandthegametech,multiplefortheaward,andthewebsite'sgametech,multipleforthemultiplefortheaward,andthewebsite'saboutgametech,multiplefortheaward,andthewebsite'saboutthegametech,multiplefortheaward,andthewebsite'saboutgametech,multiplefortheandthegametech,multiplemultiplefortheaward,andthewebsite'saboutgametech,multiplefortheaward,andthewebsite'saboutgametech,multiplefortheaward,andthewebsite'saboutgametech,multiplefortheaward,andthewebsite'saboutgametech,multipleforthemultipleforthegametech,multiplefortheaward,andthewebsite'saboutgametech,multiplefortheandthegametech,multiplefortheaward,andthewebsite'saboutthegametech,multipleforthewebsite'sandthegametech,multiplefortheaward,andthewebsite'saboutgametech,multipleforthegametech,multiplefortheaward,andthewebsite'saboutgametech,multiplefortheaward,andthewebsite'saboutgametech,multiplefortheaward,andthewebsite'saboutgametech,multiplefortheaward,andthewebsite'saboutgametech,multiplefortheaward,andthewebsite'saboutgametech,multipleforthegametech,multiplefortheaward,andthewebsite'saboutgametech,multiplefortheaward,andthewebsite'sgametech,multiplefortheaward,andthewebsite'saboutgametech,multiplefortheaward,andthewebsite'saboutgametech,multiplefortheaward,andthewebsite'saboutgametech,multiplefortheaward,andthewebsite'saboutgametech,multiplefortheaward,andthewebsite'saboutgametech,multiplefortheaward,andthewebsite'saboutgametech,multiplefortheaward,andthewebsite'saboutgametech,multipleforthegametech,andthewebsite'saboutgametech,multiplefortheaward,andthewebsite'saboutgametech,multiplefortheaward,andthewebsite'saboutgametech,multiplefortheaward,andthewebsite'saboutgametech,multipleforthe,,10thegametech,multiplefortheaward,andthewebsite'saboutgametech,multiplefortheaward,andthewebsite'saboutgametech,multiplefortheaward,andthewebsite'saboutgametech,multipleforthegametech,andthewebsite'saboutgametech,multiplefortheaward,andthewebsite'saboutgametech,multiplefortheaward,andthewebsite'saboutgametech,multiplefortheaward,andthewebsite'saboutgametech,multiplefortheaward,andthewebsite'saboutgametech,multiplefortheaward,andthewebsite'saboutgametech,multiplefortheaward,andthewebsite'saboutgametech,multiplefortheaward,andthewebsite'saboutgametech,multiplefortheaward,andthewebsite'smultiplefortheaward,andthewebsite'saboutgametech,multiplefortheawardthegametech,multiplefortheaward,andtheaward,andthewebsite'saboutgametech,multiplefortheaward,andthewebsite'saboutgametech,multiplefortheaward,andthewebsite'saboutgametech,multipleforthemultiplefortheaward,andthewebsite'saboutgametech,multiplefortheaward,andthewebsite'saboutgametech,multiplefortheaward,multiplefortheaward,andthewebsite'saboutgametech,multiplefortheaward,andthewebsite'saboutgametech,multiplefortheaward,andthewebsite'saboutgametech,multiplefortheaward,andthewebsite'saboutgametech,multiplefortheaward,andthewebsite'saboutgametech,multiplefortheaward,andthewebsite'saboutgametech,multiplefortheaward,andthewebsite'saboutgametech,multiplefortheaward,andthewebsite\", 'entertainment')}, {'bbc_entertainment_010.txt': ('politics', 'entertainment')}, {'bbc_entertainment_044.txt': ('entertainment', 'entertainment')}, {'bbc_tech_318.txt': ('tech', 'tech')}, {'bbc_business_427.txt': ('business', 'business')}, {'bbc_sport_116.txt': ('sport', 'sport')}, {'bbc_business_119.txt': ('business', 'business')}, {'bbc_business_014.txt': ('business', 'business')}, {'bbc_tech_125.txt': ('```json{\"topic\":\"tech\"}```', 'tech')}, {'bbc_business_144.txt': ('business', 'business')}, {'bbc_tech_213.txt': ('tech', 'tech')}, {'bbc_entertainment_013.txt': ('entertainment', 'entertainment')}, {'bbc_sport_032.txt': ('sport', 'sport')}, {'bbc_sport_313.txt': ('sport', 'sport')}, {'bbc_business_410.txt': ('business', 'business')}, {'bbc_entertainment_257.txt': ('entertainment', 'entertainment')}, {'bbc_entertainment_178.txt': ('entertainment', 'entertainment')}, {'bbc_sport_457.txt': ('sport', 'sport')}, {'bbc_tech_272.txt': ('tech', 'tech')}, {'bbc_sport_371.txt': ('sport', 'sport')}, {'bbc_sport_093.txt': ('sport', 'sport')}, {'bbc_tech_256.txt': ('entertainment', 'tech')}, {'bbc_business_378.txt': ('business', 'business')}, {'bbc_tech_247.txt': ('tech', 'tech')}, {'bbc_entertainment_285.txt': ('entertainment', 'entertainment')}, {'bbc_entertainment_148.txt': ('entertainment', 'entertainment')}, {'bbc_politics_330.txt': ('politics', 'politics')}, {'bbc_politics_097.txt': ('politics', 'politics')}, {'bbc_entertainment_368.txt': ('entertainment', 'entertainment')}, {'bbc_business_318.txt': ('business', 'business')}, {'bbc_tech_340.txt': ('tech', 'tech')}, {'bbc_politics_111.txt': ('politics', 'politics')}, {'bbc_business_255.txt': ('`business`', 'business')}, {'bbc_business_220.txt': ('business', 'business')}, {'bbc_politics_005.txt': ('politics', 'politics')}, {'bbc_sport_451.txt': ('sport', 'sport')}, {'bbc_sport_181.txt': ('sport', 'sport')}, {'bbc_sport_414.txt': ('sport', 'sport')}, {'bbc_politics_338.txt': ('politics', 'politics')}, {'bbc_politics_337.txt': ('\"politics\"', 'politics')}, {'bbc_business_346.txt': ('```json\"business\"```', 'business')}, {'bbc_business_349.txt': ('business', 'business')}, {'bbc_business_192.txt': ('\"business\"', 'business')}, {'bbc_tech_041.txt': ('tech', 'tech')}, {'bbc_sport_483.txt': ('sport', 'sport')}, {'bbc_politics_232.txt': ('`politics`', 'politics')}, {'bbc_entertainment_145.txt': ('entertainment', 'entertainment')}, {'bbc_politics_327.txt': ('politics', 'politics')}, {'bbc_entertainment_086.txt': ('entertainment', 'entertainment')}, {'bbc_sport_231.txt': ('`\"sport\"`', 'sport')}, {'bbc_tech_385.txt': ('tech', 'tech')}, {'bbc_entertainment_305.txt': ('`entertainment`', 'entertainment')}, {'bbc_politics_136.txt': ('\"politics\"', 'politics')}, {'bbc_business_250.txt': ('business', 'business')}, {'bbc_entertainment_355.txt': ('thetopicofthetextis:entertainment', 'entertainment')}, {'bbc_sport_354.txt': ('sport', 'sport')}, {'bbc_tech_357.txt': ('tech', 'tech')}, {'bbc_politics_023.txt': ('\"business\"', 'politics')}, {'bbc_sport_222.txt': ('sport', 'sport')}, {'bbc_sport_264.txt': ('sport', 'sport')}, {'bbc_sport_308.txt': ('`sport`', 'sport')}, {'bbc_tech_243.txt': ('`tech`', 'tech')}, {'bbc_entertainment_336.txt': ('entertainment', 'entertainment')}, {'bbc_sport_419.txt': ('`\"sport\"`', 'sport')}, {'bbc_business_369.txt': ('business', 'business')}, {'bbc_politics_059.txt': ('politics', 'politics')}, {'bbc_sport_502.txt': ('sport', 'sport')}, {'bbc_politics_072.txt': ('politics', 'politics')}, {'bbc_sport_401.txt': ('sport', 'sport')}, {'bbc_business_217.txt': ('`politics`', 'business')}, {'bbc_politics_227.txt': ('politics', 'politics')}, {'bbc_politics_214.txt': ('politics', 'politics')}, {'bbc_tech_235.txt': ('business', 'tech')}, {'bbc_politics_098.txt': ('politics', 'politics')}, {'bbc_sport_014.txt': ('sport', 'sport')}, {'bbc_tech_327.txt': ('tech', 'tech')}, {'bbc_sport_124.txt': ('sport', 'sport')}, {'bbc_business_181.txt': ('`business`', 'business')}, {'bbc_tech_343.txt': ('`tech`', 'tech')}, {'bbc_tech_294.txt': ('tech', 'tech')}, {'bbc_sport_247.txt': ('`sport`', 'sport')}, {'bbc_business_371.txt': ('`business`', 'business')}, {'bbc_sport_241.txt': ('\"sport\"', 'sport')}, {'bbc_tech_090.txt': ('entertainment', 'tech')}, {'bbc_entertainment_063.txt': ('entertainment', 'entertainment')}, {'bbc_sport_453.txt': ('sport', 'sport')}, {'bbc_entertainment_050.txt': ('entertainment', 'entertainment')}, {'bbc_sport_019.txt': ('sport', 'sport')}, {'bbc_business_376.txt': ('business', 'business')}, {'bbc_business_134.txt': (\"iapologizeforthetruncatedresponseearlier.here'sarewrittenanswer:yes,iwouldsaythatthisrevisedstatementcommunicatesthesamebasicideaastheoriginaltext.you'veeffectivelyconveyedthemessagethatvotingisnotamoraldilemmaandthatthejobcreationnewsisapositivedevelopmentfortheeconomy.however,iwouldliketoclassifythistextas:**business**\", 'business')}, {'bbc_sport_316.txt': ('sport', 'sport')}, {'bbc_business_508.txt': ('business', 'business')}, {'bbc_tech_064.txt': ('tech', 'tech')}, {'bbc_entertainment_342.txt': ('entertainment', 'entertainment')}, {'bbc_sport_092.txt': ('sport', 'sport')}, {'bbc_entertainment_316.txt': ('entertainment', 'entertainment')}, {'bbc_business_229.txt': ('business', 'business')}, {'bbc_politics_118.txt': ('politics', 'politics')}, {'bbc_sport_100.txt': ('sport', 'sport')}, {'bbc_politics_230.txt': ('politics', 'politics')}, {'bbc_politics_192.txt': ('politics', 'politics')}, {'bbc_entertainment_381.txt': ('entertainment', 'entertainment')}, {'bbc_politics_370.txt': ('politics', 'politics')}, {'bbc_business_126.txt': ('business', 'business')}, {'bbc_sport_013.txt': ('sport', 'sport')}, {'bbc_tech_287.txt': ('tech', 'tech')}, {'bbc_business_204.txt': ('politics', 'business')}, {'bbc_sport_225.txt': ('sport', 'sport')}, {'bbc_entertainment_279.txt': ('entertainment', 'entertainment')}, {'bbc_business_174.txt': ('business', 'business')}, {'bbc_sport_129.txt': ('sport', 'sport')}, {'bbc_sport_114.txt': ('sport', 'sport')}, {'bbc_entertainment_266.txt': ('thecorrectanswerwouldbe:tech', 'entertainment')}, {'bbc_business_284.txt': ('politics', 'business')}, {'bbc_entertainment_156.txt': ('entertainment', 'entertainment')}, {'bbc_tech_293.txt': ('**topic:tech', 'tech')}, {'bbc_tech_306.txt': ('topic:tech', 'tech')}, {'bbc_entertainment_203.txt': ('entertainment', 'entertainment')}, {'bbc_tech_097.txt': ('thecorrectanswer', 'tech')}, {'bbc_business_332.txt': ('business', 'business')}, {'bbc_business_148.txt': ('business', 'business')}, {'bbc_sport_050.txt': ('sport', 'sport')}, {'bbc_sport_445.txt': ('sport', 'sport')}, {'bbc_politics_414.txt': ('politics', 'politics')}, {'bbc_politics_176.txt': ('politics', 'politics')}, {'bbc_entertainment_249.txt': ('entertainment', 'entertainment')}, {'bbc_tech_223.txt': ('tech', 'tech')}, {'bbc_business_436.txt': ('thecorrectanswerwouldbe:entertainment', 'business')}, {'bbc_sport_266.txt': ('sport', 'sport')}, {'bbc_tech_062.txt': ('tech', 'tech')}, {'bbc_tech_091.txt': ('entertainment', 'tech')}, {'bbc_politics_112.txt': ('politics', 'politics')}, {'bbc_sport_415.txt': ('sport', 'sport')}, {'bbc_entertainment_213.txt': ('entertainment', 'entertainment')}, {'bbc_business_292.txt': ('```business```', 'business')}, {'bbc_tech_124.txt': ('entertainment', 'tech')}, {'bbc_business_476.txt': ('business', 'business')}, {'bbc_entertainment_106.txt': ('\"entertainment\"', 'entertainment')}, {'bbc_business_180.txt': ('business', 'business')}, {'bbc_tech_033.txt': ('tech', 'tech')}, {'bbc_sport_255.txt': ('sport', 'sport')}, {'bbc_tech_092.txt': ('tech', 'tech')}, {'bbc_entertainment_231.txt': ('entertainment', 'entertainment')}, {'bbc_business_107.txt': ('\"business\"', 'business')}, {'bbc_tech_182.txt': ('entertainment', 'tech')}, {'bbc_sport_350.txt': ('sport', 'sport')}, {'bbc_politics_120.txt': ('politics', 'politics')}, {'bbc_tech_205.txt': ('tech', 'tech')}, {'bbc_politics_243.txt': ('politics', 'politics')}, {'bbc_sport_357.txt': ('sport', 'sport')}, {'bbc_business_233.txt': ('business', 'business')}, {'bbc_politics_015.txt': ('politics', 'politics')}, {'bbc_tech_230.txt': ('tech', 'tech')}, {'bbc_sport_291.txt': ('sport', 'sport')}, {'bbc_sport_048.txt': ('sport', 'sport')}, {'bbc_politics_385.txt': ('politics', 'politics')}, {'bbc_business_007.txt': ('business', 'business')}, {'bbc_sport_112.txt': ('sport', 'sport')}, {'bbc_tech_221.txt': ('tech', 'tech')}, {'bbc_business_251.txt': ('business', 'business')}, {'bbc_politics_231.txt': ('politics', 'politics')}, {'bbc_politics_345.txt': ('politics', 'politics')}, {'bbc_business_041.txt': ('business', 'business')}, {'bbc_tech_227.txt': ('tech', 'tech')}, {'bbc_sport_402.txt': ('sport', 'sport')}, {'bbc_sport_472.txt': ('sport', 'sport')}, {'bbc_sport_172.txt': ('sport', 'sport')}, {'bbc_business_372.txt': ('business', 'business')}, {'bbc_politics_123.txt': ('politics', 'politics')}, {'bbc_tech_261.txt': ('tech', 'tech')}, {'bbc_business_086.txt': ('business', 'business')}, {'bbc_business_017.txt': ('business', 'business')}, {'bbc_business_451.txt': ('business', 'business')}, {'bbc_sport_246.txt': ('sport', 'sport')}, {'bbc_sport_150.txt': ('sport', 'sport')}, {'bbc_business_422.txt': ('business', 'business')}, {'bbc_business_379.txt': ('business', 'business')}, {'bbc_tech_115.txt': ('tech', 'tech')}, {'bbc_business_260.txt': ('business', 'business')}, {'bbc_entertainment_089.txt': ('entertainment', 'entertainment')}, {'bbc_sport_162.txt': ('sport', 'sport')}, {'bbc_business_316.txt': ('business', 'business')}, {'bbc_sport_344.txt': ('sport', 'sport')}, {'bbc_tech_289.txt': ('tech', 'tech')}, {'bbc_entertainment_222.txt': ('entertainment', 'entertainment')}, {'bbc_business_423.txt': ('business', 'business')}, {'bbc_sport_086.txt': ('sport', 'sport')}, {'bbc_entertainment_074.txt': ('entertainment', 'entertainment')}, {'bbc_business_150.txt': ('business', 'business')}, {'bbc_tech_264.txt': ('tech', 'tech')}, {'bbc_politics_095.txt': ('politics', 'politics')}, {'bbc_politics_135.txt': ('politics', 'politics')}, {'bbc_tech_156.txt': ('tech', 'tech')}, {'bbc_sport_147.txt': ('sport', 'sport')}, {'bbc_politics_082.txt': ('politics', 'politics')}, {'bbc_business_128.txt': (\"{'topic':'business'}\", 'business')}, {'bbc_sport_187.txt': ('sport', 'sport')}, {'bbc_politics_191.txt': ('politics', 'politics')}, {'bbc_business_151.txt': ('business', 'business')}, {'bbc_business_362.txt': ('business', 'business')}, {'bbc_sport_104.txt': ('sport', 'sport')}, {'bbc_business_509.txt': ('business', 'business')}, {'bbc_business_092.txt': ('business', 'business')}, {'bbc_tech_305.txt': ('tech', 'tech')}, {'bbc_politics_238.txt': ('politics', 'politics')}, {'bbc_sport_303.txt': ('thetopicofthetextis:sport', 'sport')}, {'bbc_business_257.txt': ('business', 'business')}, {'bbc_entertainment_125.txt': ('entertainment', 'entertainment')}, {'bbc_sport_126.txt': ('sport', 'sport')}, {'bbc_sport_239.txt': (\"i'vegotit!thetopicofthistextis:sport\", 'sport')}, {'bbc_sport_403.txt': ('sport', 'sport')}, {'bbc_tech_219.txt': ('tech', 'tech')}, {'bbc_business_283.txt': ('business', 'business')}, {'bbc_politics_143.txt': ('politics', 'politics')}, {'bbc_politics_103.txt': ('politics', 'politics')}, {'bbc_tech_232.txt': ('tech', 'tech')}, {'bbc_business_270.txt': ('business', 'business')}, {'bbc_entertainment_031.txt': ('entertainment', 'entertainment')}, {'bbc_tech_141.txt': ('tech', 'tech')}, {'bbc_business_359.txt': ('business', 'business')}, {'bbc_entertainment_151.txt': ('entertainment', 'entertainment')}, {'bbc_entertainment_243.txt': ('entertainment', 'entertainment')}, {'bbc_tech_367.txt': ('tech', 'tech')}, {'bbc_sport_151.txt': ('sport', 'sport')}, {'bbc_business_368.txt': ('business', 'business')}, {'bbc_business_482.txt': ('business', 'business')}, {'bbc_business_210.txt': ('business', 'business')}, {'bbc_business_104.txt': ('politics', 'business')}, {'bbc_politics_048.txt': ('politics', 'politics')}, {'bbc_tech_042.txt': ('tech', 'tech')}, {'bbc_tech_314.txt': ('tech', 'tech')}, {'bbc_entertainment_275.txt': ('entertainment', 'entertainment')}, {'bbc_sport_119.txt': ('sport', 'sport')}, {'bbc_entertainment_362.txt': ('entertainment', 'entertainment')}, {'bbc_sport_470.txt': ('thecorrectansweris:sport', 'sport')}, {'bbc_sport_300.txt': ('sport', 'sport')}, {'bbc_entertainment_337.txt': ('entertainment', 'entertainment')}, {'bbc_tech_057.txt': ('thecorrectanswerwouldbethe\"raymanwentbywarframetothisyearthethecallofduty\"thethisyearthemusicwentbywarframetothisyearthedutycallofthebestman.\"thethisyearthemusicwentbywarframetothisyearthedutycalloftheoriginalitythe2awardwasthisyearthe2005pcsthemusicwentbyfivethelastyearoftheawardedthebestmanwonbycallofdutytheawardthisyearthe2:blackops4callofthisyearthedutycalloftheawardthisyearthemusicwentbywarframetothisyearthedutycalloftheawardthisyearthemusicwentbywarframetothisyearthedutycalloftheoriginalitythe2awardwonbywarthe3wonpcscallofdutythisyearthemusic\"thethisyearthemusicwentbywarframetothisawardthedutycalloftheoriginalwarframe2awardthisyearthemusicwonbywarpcsthemusicwentbyfivecallofthisyearthemusicwentbywarframetowarthisyearthemusicwentbywarthisyearthemusicwentbywarframe3callofthisyearthemusic\"themusicwentbywarthisyearthemusic\"thethisyearthemusicwentbywarframetothisyearthedutycalloftheoriginalwarthisyearthemusicwentbywarthe3awardpcsthemusic\"thethisyearthedutycallofthemusicwentbywarthisyearthedutycalloftheoriginalthisyearthemusicthisyearthemusicwentbywarframetothisyearthemusicwentbycallofthisyearthemusic\"themusicwentbywarframetothisyearthedutycallofthisyearthemusicwentbywarthisyearthewarframetothisyearthedutycalloftheoriginalmusic\"themusicwentbyfivecallofthemusic\"thethisyearthedutyfivepcsthemusicwentbythisyearthemusic\"themusicwentbywarframetothisyearthemusic\"thethisyearthemusicwentbywarframetothisyearthedutycalloftheoriginalwarthisyearthemusicwentbywarthe3awardpcsofthemusicwentbywarframetothisyearthemusicwentbywarthisyearthemusicwentbywarthisyearthedutytheoriginalthisyearthemusicwentbywarthisyearthedutycallofthisyearthemusic\"thethisyearthemusicwentbywarframe2callofthemusicwentbywarthisyearthemusicwentbywarframetothisyearthedutycallofthisyearthemusicwentbywarthisyearthemusic\"thethisyeartheoriginalthisyearthemusicwentbywarframetothisyearthedutycallofthisyearthemusicwentbywarthisyearthemusic\"themusicwentbywarthisyearthemusic\"themusicwentbywarframetothisyearthemusicwentbywarthisyearthedutycallofthisyearthemusicwentbywarframe2\"themusicwentbywarthisyearthedutycallofthisyeartheoriginalmusicwentbywarframe2awardthisyearthemusicwentbywarthisyearthemusicwentbywarframetothisyearthedutycallofthisyearthemusicwentbywarframeto\"thethisyearthemusicwentbywarthisyearthemusicwentbywarthisyearthemusicwentbywarthisyearthemusic\"thethisyearthemusicwentbywarframetothisyearthedutycalloftheoriginalmusicwentbyfiveawardthisyearthemusicwentbywarpcsofthisyearthemusicwentbywarthisyearthedutycallofthemusicwentbywarthisyearthemusic\"themusicwentbywarframe2awardthisyearthemusicwentbywarthisyearthemusic\"thethisyearthedutycallofthisyearthemusicwentbywarframe2awardthisyearthemusic\"thethisyearthemusicwentbywarthisyearthedutycalloftheoriginalmusicwentbywarframe2awardthisyearthemusicwentbypcsofthisyearthemusic\"thethisyearthedutycallofthemusicwentbywarthisyearthisyearthedutycallofthemusicwentbypcsthisyearthemusicwentbywarthisyearthemusic\"thethisyearthemusic\"thethisyearthemusicwentbywarthisyearthedutycallofthisyearthemusic\"thethisyearthemusicwentbywarthisyearthedutycallofthemusicwentbywarthisyearthemusic\"thethisyearthedutycalloftheoriginalmusicwentbyfiveawardthisyearthemusic\"', 'tech')}, {'bbc_business_388.txt': ('politics', 'business')}, {'bbc_politics_347.txt': ('politics', 'politics')}, {'bbc_politics_263.txt': ('politics', 'politics')}, {'bbc_sport_158.txt': ('sport', 'sport')}, {'bbc_business_290.txt': ('business', 'business')}, {'bbc_business_040.txt': ('business', 'business')}, {'bbc_politics_049.txt': ('politics', 'politics')}, {'bbc_sport_189.txt': ('sport', 'sport')}, {'bbc_business_355.txt': ('business', 'business')}, {'bbc_business_375.txt': ('business', 'business')}, {'bbc_business_234.txt': ('business', 'business')}, {'bbc_business_006.txt': ('business', 'business')}, {'bbc_business_261.txt': ('business', 'business')}, {'bbc_politics_273.txt': ('politics', 'politics')}, {'bbc_entertainment_190.txt': ('entertainment', 'entertainment')}, {'bbc_business_487.txt': ('\"politics\"', 'business')}, {'bbc_sport_469.txt': ('sport', 'sport')}, {'bbc_entertainment_262.txt': ('entertainment', 'entertainment')}, {'bbc_business_186.txt': ('business', 'business')}, {'bbc_sport_323.txt': ('sport', 'sport')}, {'bbc_entertainment_186.txt': ('\"entertainment\"', 'entertainment')}, {'bbc_entertainment_291.txt': ('entertainment', 'entertainment')}, {'bbc_business_328.txt': ('politics', 'business')}, {'bbc_entertainment_320.txt': ('entertainment', 'entertainment')}, {'bbc_politics_361.txt': ('politics', 'politics')}, {'bbc_sport_428.txt': ('sport', 'sport')}, {'bbc_entertainment_209.txt': ('thecorrectinreallytheshowthepublicsaiditwashisshowofhimagain,oneof10%offtheamattheoverhisshowthewebtotheitinreallytheshow.theysaidtheshowhisshowofhimagain,oneof10%isreallytheattheoverhisshowthewebtotheitthehisshowtotheactionandgivenfortheshowfeaturenovemberonthefirst.', 'entertainment')}, {'bbc_sport_191.txt': ('sport', 'sport')}, {'bbc_entertainment_150.txt': ('entertainment', 'entertainment')}, {'bbc_politics_264.txt': ('politics', 'politics')}, {'bbc_sport_458.txt': ('sport', 'sport')}, {'bbc_entertainment_048.txt': ('entertainment', 'entertainment')}, {'bbc_sport_237.txt': ('tobe,thetopicis:sport', 'sport')}, {'bbc_politics_359.txt': ('thecorrectansweris:politics', 'politics')}, {'bbc_politics_188.txt': ('politics', 'politics')}, {'bbc_politics_357.txt': ('thecorrectanswer,however,tobehadhisasgoodthe\"thecorrecthadareashesaid\"wehavetheplanshave.thecorrectansweris:politics', 'politics')}, {'bbc_business_073.txt': ('\"business\"', 'business')}, {'bbc_politics_028.txt': ('politics', 'politics')}, {'bbc_business_010.txt': ('business', 'business')}, {'bbc_tech_218.txt': ('\"entertainment\"', 'tech')}, {'bbc_sport_094.txt': ('sport', 'sport')}, {'bbc_sport_392.txt': ('thecorrect,histeamwilliams,histeamwilliams4.1histeam,histeamwilliams4.hewashisteamhisteamwilliams4.hetheteamwilliams.heheinwilliamswhose4.whichwilliams.hehasteamwilliams.thewilliams.\"', 'sport')}, {'bbc_tech_249.txt': ('tech', 'tech')}, {'bbc_business_266.txt': ('business', 'business')}, {'bbc_politics_397.txt': ('politics', 'politics')}, {'bbc_sport_432.txt': ('thetopicofthetextis:sport', 'sport')}, {'bbc_sport_425.txt': ('sport', 'sport')}, {'bbc_business_114.txt': ('business', 'business')}, {'bbc_tech_083.txt': ('{\"topic\":\"tech\"}', 'tech')}, {'bbc_politics_240.txt': ('sport', 'politics')}, {'bbc_business_361.txt': ('{\"topic\":\"business\"}', 'business')}, {'bbc_tech_111.txt': ('tech', 'tech')}, {'bbc_entertainment_011.txt': ('entertainment', 'entertainment')}, {'bbc_business_458.txt': ('business', 'business')}, {'bbc_politics_398.txt': ('politics', 'politics')}, {'bbc_tech_010.txt': ('tech', 'tech')}, {'bbc_entertainment_357.txt': ('entertainment', 'entertainment')}, {'bbc_politics_129.txt': ('politics', 'politics')}, {'bbc_sport_293.txt': ('thecorrectanswerwouldbe:sport', 'sport')}, {'bbc_entertainment_015.txt': ('entertainment', 'entertainment')}, {'bbc_politics_331.txt': ('politics', 'politics')}, {'bbc_entertainment_080.txt': ('entertainment', 'entertainment')}, {'bbc_business_336.txt': ('business', 'business')}, {'bbc_sport_305.txt': ('thecorrectonto\"wehaveahadextremely,theandtheplatformtotheserviceandthethecorrect', 'sport')}, {'bbc_business_135.txt': ('business', 'business')}, {'bbc_tech_286.txt': ('tech', 'tech')}]\n",
      "355\n"
     ]
    }
   ],
   "source": [
    "def add_correct_anser(results, test_df):\n",
    "    result_with_correct_answer = []\n",
    "    for result in results:\n",
    "       for key, value in result.items():\n",
    "            value = value.replace(\"\\n\", \"\")\n",
    "            value = value.replace(\" \\n\", \"\")\n",
    "            value = value.replace(\" \",\"\")\n",
    "            value = value.lower()\n",
    "            matching_rows = test_df.loc[test_df['name'] == key, 'category']\n",
    "            \n",
    "            if not matching_rows.empty:\n",
    "                category_value = matching_rows.values[0]\n",
    "                category_value = category_value.lower()\n",
    "                result_with_correct_answer.append({key: (value, category_value)})\n",
    "\n",
    "            else:\n",
    "                print(f\"No matching category found for key: {key}\")\n",
    "                result_with_correct_answer.append({key: (value, None)})\n",
    "        \n",
    "    return result_with_correct_answer\n",
    "\n",
    "results_with_correct_answer = add_correct_anser(results, test_df)\n",
    "print(results_with_correct_answer)\n",
    "print(len(results_with_correct_answer))"
   ]
  },
  {
   "cell_type": "code",
   "execution_count": null,
   "metadata": {},
   "outputs": [
    {
     "name": "stdout",
     "output_type": "stream",
     "text": [
      "[{'bbc_tech_246.txt': ('tech', 'tech')}, {'bbc_tech_099.txt': ('tech', 'tech')}, {'bbc_entertainment_376.txt': ('entertainment', 'entertainment')}, {'bbc_business_068.txt': ('business', 'business')}, {'bbc_entertainment_195.txt': ('entertainment', 'entertainment')}, {'bbc_politics_290.txt': ('politics', 'politics')}, {'bbc_business_365.txt': ('business', 'business')}, {'bbc_entertainment_314.txt': ('entertainment', 'entertainment')}, {'bbc_business_069.txt': ('business', 'business')}, {'bbc_business_402.txt': ('business', 'business')}, {'bbc_sport_194.txt': ('sport', 'sport')}, {'bbc_tech_021.txt': ('tech', 'tech')}, {'bbc_tech_244.txt': ('entertainment', 'tech')}, {'bbc_sport_423.txt': ('sport', 'sport')}, {'bbc_entertainment_289.txt': ('thecorrectansweris:entertainment', 'entertainment')}, {'bbc_politics_190.txt': ('politics', 'politics')}, {'bbc_politics_011.txt': ('politics', 'politics')}, {'bbc_tech_204.txt': ('thecorrectanswerwouldbethefinalanswerreceived10,000peryear.', 'tech')}, {'bbc_tech_159.txt': ('tech', 'tech')}, {'bbc_politics_003.txt': ('politics', 'politics')}, {'bbc_entertainment_221.txt': ('entertainment', 'entertainment')}, {'bbc_entertainment_072.txt': ('thecorrectansweris:entertainment', 'entertainment')}, {'bbc_politics_407.txt': ('politics', 'politics')}, {'bbc_tech_116.txt': ('tech', 'tech')}, {'bbc_business_074.txt': ('business', 'business')}, {'bbc_entertainment_280.txt': ('entertainment', 'entertainment')}, {'bbc_sport_398.txt': ('sport', 'sport')}, {'bbc_business_159.txt': ('business', 'business')}, {'bbc_tech_016.txt': ('tech', 'tech')}, {'bbc_entertainment_306.txt': ('entertainment', 'entertainment')}, {'bbc_sport_484.txt': ('business', 'sport')}, {'bbc_sport_376.txt': ('sport', 'sport')}, {'bbc_sport_103.txt': ('sport', 'sport')}, {'bbc_sport_123.txt': ('sport', 'sport')}, {'bbc_politics_029.txt': ('politics', 'politics')}, {'bbc_politics_193.txt': ('politics', 'politics')}, {'bbc_politics_156.txt': (\"i'llhad1992,heresultsfor69resultsfor1992nattendsystemresultsfor1992,attendsystemresultsfor1992,attendwedon'tknowofthe.\", 'politics')}, {'bbc_business_198.txt': ('business', 'business')}, {'bbc_entertainment_271.txt': ('business', 'entertainment')}, {'bbc_tech_087.txt': ('thenetcontentisthenumberofthenet.', 'tech')}, {'bbc_sport_345.txt': ('sport', 'sport')}, {'bbc_politics_052.txt': ('politics', 'politics')}, {'bbc_entertainment_349.txt': ('entertainment', 'entertainment')}, {'bbc_sport_248.txt': ('sport', 'sport')}, {'bbc_sport_046.txt': ('sport', 'sport')}, {'bbc_business_079.txt': ('thetopicis:business', 'business')}, {'bbc_business_453.txt': ('business', 'business')}, {'bbc_business_066.txt': ('business', 'business')}, {'bbc_politics_358.txt': (\"theukisandthehadthetheamounttotheintheeu.thecorrectanswerforaukisandthehadthetheamounttothe2006.theeuandthehadthetheamounttotheukisandtheeu'seuandthehadthetheamounttothe2000.\", 'politics')}, {'bbc_entertainment_204.txt': ('entertainment', 'entertainment')}, {'bbc_entertainment_090.txt': ('entertainment', 'entertainment')}, {'bbc_entertainment_220.txt': (\"thecorrectanswer:multiplefortheaward,ofthewebsite'saboutthethenallthegametothegametech,multiplegametech,multiplefortheaward,ofthewebsite'saboutthethengametechgametech,multiplefortheaward,andthewebsitegametech,multiplefortheaward,andthewebsite'saboutthethenallthegametechandtheyear,forthegametech,multiplefortheaward,andthewebsite'saboutthethenallthegametechandtheyear,fortheaward,andthewebsite'saboutthegametech,andthegametech,multiplefortheaward,andthewebsite'saboutthethenallthegame,andthegametech,multiplefortheaward,andthegametech,andthewebsite'syear'sfortheaward,andthegametech,multipleforthegametech,andthewebsite'sgametech,andthemultipleforthegametech,multiplegametech,multiplefortheaward,andthewebsite'saboutthethenallthegametechandtheyear,forthewebsite'sandthegametech,multipleforthegametech,multipleforthewebsite'sandthegametech,multiplefortheaward,andthewebsite'sgametech,multipleforthemultiplefortheaward,andthewebsite'saboutgametech,multiplefortheaward,andthewebsite'saboutthegametech,multiplefortheaward,andthewebsite'saboutgametech,multiplefortheandthegametech,multiplemultiplefortheaward,andthewebsite'saboutgametech,multiplefortheaward,andthewebsite'saboutgametech,multiplefortheaward,andthewebsite'saboutgametech,multiplefortheaward,andthewebsite'saboutgametech,multipleforthemultipleforthegametech,multiplefortheaward,andthewebsite'saboutgametech,multiplefortheandthegametech,multiplefortheaward,andthewebsite'saboutthegametech,multipleforthewebsite'sandthegametech,multiplefortheaward,andthewebsite'saboutgametech,multipleforthegametech,multiplefortheaward,andthewebsite'saboutgametech,multiplefortheaward,andthewebsite'saboutgametech,multiplefortheaward,andthewebsite'saboutgametech,multiplefortheaward,andthewebsite'saboutgametech,multiplefortheaward,andthewebsite'saboutgametech,multipleforthegametech,multiplefortheaward,andthewebsite'saboutgametech,multiplefortheaward,andthewebsite'sgametech,multiplefortheaward,andthewebsite'saboutgametech,multiplefortheaward,andthewebsite'saboutgametech,multiplefortheaward,andthewebsite'saboutgametech,multiplefortheaward,andthewebsite'saboutgametech,multiplefortheaward,andthewebsite'saboutgametech,multiplefortheaward,andthewebsite'saboutgametech,multiplefortheaward,andthewebsite'saboutgametech,multipleforthegametech,andthewebsite'saboutgametech,multiplefortheaward,andthewebsite'saboutgametech,multiplefortheaward,andthewebsite'saboutgametech,multiplefortheaward,andthewebsite'saboutgametech,multipleforthe,,10thegametech,multiplefortheaward,andthewebsite'saboutgametech,multiplefortheaward,andthewebsite'saboutgametech,multiplefortheaward,andthewebsite'saboutgametech,multipleforthegametech,andthewebsite'saboutgametech,multiplefortheaward,andthewebsite'saboutgametech,multiplefortheaward,andthewebsite'saboutgametech,multiplefortheaward,andthewebsite'saboutgametech,multiplefortheaward,andthewebsite'saboutgametech,multiplefortheaward,andthewebsite'saboutgametech,multiplefortheaward,andthewebsite'saboutgametech,multiplefortheaward,andthewebsite'saboutgametech,multiplefortheaward,andthewebsite'smultiplefortheaward,andthewebsite'saboutgametech,multiplefortheawardthegametech,multiplefortheaward,andtheaward,andthewebsite'saboutgametech,multiplefortheaward,andthewebsite'saboutgametech,multiplefortheaward,andthewebsite'saboutgametech,multipleforthemultiplefortheaward,andthewebsite'saboutgametech,multiplefortheaward,andthewebsite'saboutgametech,multiplefortheaward,multiplefortheaward,andthewebsite'saboutgametech,multiplefortheaward,andthewebsite'saboutgametech,multiplefortheaward,andthewebsite'saboutgametech,multiplefortheaward,andthewebsite'saboutgametech,multiplefortheaward,andthewebsite'saboutgametech,multiplefortheaward,andthewebsite'saboutgametech,multiplefortheaward,andthewebsite'saboutgametech,multiplefortheaward,andthewebsite\", 'entertainment')}, {'bbc_entertainment_010.txt': ('politics', 'entertainment')}, {'bbc_entertainment_044.txt': ('entertainment', 'entertainment')}, {'bbc_tech_318.txt': ('tech', 'tech')}, {'bbc_business_427.txt': ('business', 'business')}, {'bbc_sport_116.txt': ('sport', 'sport')}, {'bbc_business_119.txt': ('business', 'business')}, {'bbc_business_014.txt': ('business', 'business')}, {'bbc_tech_125.txt': ('```json{\"topic\":\"tech\"}```', 'tech')}, {'bbc_business_144.txt': ('business', 'business')}, {'bbc_tech_213.txt': ('tech', 'tech')}, {'bbc_entertainment_013.txt': ('entertainment', 'entertainment')}, {'bbc_sport_032.txt': ('sport', 'sport')}, {'bbc_sport_313.txt': ('sport', 'sport')}, {'bbc_business_410.txt': ('business', 'business')}, {'bbc_entertainment_257.txt': ('entertainment', 'entertainment')}, {'bbc_entertainment_178.txt': ('entertainment', 'entertainment')}, {'bbc_sport_457.txt': ('sport', 'sport')}, {'bbc_tech_272.txt': ('tech', 'tech')}, {'bbc_sport_371.txt': ('sport', 'sport')}, {'bbc_sport_093.txt': ('sport', 'sport')}, {'bbc_tech_256.txt': ('entertainment', 'tech')}, {'bbc_business_378.txt': ('business', 'business')}, {'bbc_tech_247.txt': ('tech', 'tech')}, {'bbc_entertainment_285.txt': ('entertainment', 'entertainment')}, {'bbc_entertainment_148.txt': ('entertainment', 'entertainment')}, {'bbc_politics_330.txt': ('politics', 'politics')}, {'bbc_politics_097.txt': ('politics', 'politics')}, {'bbc_entertainment_368.txt': ('entertainment', 'entertainment')}, {'bbc_business_318.txt': ('business', 'business')}, {'bbc_tech_340.txt': ('tech', 'tech')}, {'bbc_politics_111.txt': ('politics', 'politics')}, {'bbc_business_255.txt': ('`business`', 'business')}, {'bbc_business_220.txt': ('business', 'business')}, {'bbc_politics_005.txt': ('politics', 'politics')}, {'bbc_sport_451.txt': ('sport', 'sport')}, {'bbc_sport_181.txt': ('sport', 'sport')}, {'bbc_sport_414.txt': ('sport', 'sport')}, {'bbc_politics_338.txt': ('politics', 'politics')}, {'bbc_politics_337.txt': ('\"politics\"', 'politics')}, {'bbc_business_346.txt': ('```json\"business\"```', 'business')}, {'bbc_business_349.txt': ('business', 'business')}, {'bbc_business_192.txt': ('\"business\"', 'business')}, {'bbc_tech_041.txt': ('tech', 'tech')}, {'bbc_sport_483.txt': ('sport', 'sport')}, {'bbc_politics_232.txt': ('`politics`', 'politics')}, {'bbc_entertainment_145.txt': ('entertainment', 'entertainment')}, {'bbc_politics_327.txt': ('politics', 'politics')}, {'bbc_entertainment_086.txt': ('entertainment', 'entertainment')}, {'bbc_sport_231.txt': ('`\"sport\"`', 'sport')}, {'bbc_tech_385.txt': ('tech', 'tech')}, {'bbc_entertainment_305.txt': ('`entertainment`', 'entertainment')}, {'bbc_politics_136.txt': ('\"politics\"', 'politics')}, {'bbc_business_250.txt': ('business', 'business')}, {'bbc_entertainment_355.txt': ('thetopicofthetextis:entertainment', 'entertainment')}, {'bbc_sport_354.txt': ('sport', 'sport')}, {'bbc_tech_357.txt': ('tech', 'tech')}, {'bbc_politics_023.txt': ('\"business\"', 'politics')}, {'bbc_sport_222.txt': ('sport', 'sport')}, {'bbc_sport_264.txt': ('sport', 'sport')}, {'bbc_sport_308.txt': ('`sport`', 'sport')}, {'bbc_tech_243.txt': ('`tech`', 'tech')}, {'bbc_entertainment_336.txt': ('entertainment', 'entertainment')}, {'bbc_sport_419.txt': ('`\"sport\"`', 'sport')}, {'bbc_business_369.txt': ('business', 'business')}, {'bbc_politics_059.txt': ('politics', 'politics')}, {'bbc_sport_502.txt': ('sport', 'sport')}, {'bbc_politics_072.txt': ('politics', 'politics')}, {'bbc_sport_401.txt': ('sport', 'sport')}, {'bbc_business_217.txt': ('`politics`', 'business')}, {'bbc_politics_227.txt': ('politics', 'politics')}, {'bbc_politics_214.txt': ('politics', 'politics')}, {'bbc_tech_235.txt': ('business', 'tech')}, {'bbc_politics_098.txt': ('politics', 'politics')}, {'bbc_sport_014.txt': ('sport', 'sport')}, {'bbc_tech_327.txt': ('tech', 'tech')}, {'bbc_sport_124.txt': ('sport', 'sport')}, {'bbc_business_181.txt': ('`business`', 'business')}, {'bbc_tech_343.txt': ('`tech`', 'tech')}, {'bbc_tech_294.txt': ('tech', 'tech')}, {'bbc_sport_247.txt': ('`sport`', 'sport')}, {'bbc_business_371.txt': ('`business`', 'business')}, {'bbc_sport_241.txt': ('\"sport\"', 'sport')}, {'bbc_tech_090.txt': ('entertainment', 'tech')}, {'bbc_entertainment_063.txt': ('entertainment', 'entertainment')}, {'bbc_sport_453.txt': ('sport', 'sport')}, {'bbc_entertainment_050.txt': ('entertainment', 'entertainment')}, {'bbc_sport_019.txt': ('sport', 'sport')}, {'bbc_business_376.txt': ('business', 'business')}, {'bbc_business_134.txt': (\"iapologizeforthetruncatedresponseearlier.here'sarewrittenanswer:yes,iwouldsaythatthisrevisedstatementcommunicatesthesamebasicideaastheoriginaltext.you'veeffectivelyconveyedthemessagethatvotingisnotamoraldilemmaandthatthejobcreationnewsisapositivedevelopmentfortheeconomy.however,iwouldliketoclassifythistextas:**business**\", 'business')}, {'bbc_sport_316.txt': ('sport', 'sport')}, {'bbc_business_508.txt': ('business', 'business')}, {'bbc_tech_064.txt': ('tech', 'tech')}, {'bbc_entertainment_342.txt': ('entertainment', 'entertainment')}, {'bbc_sport_092.txt': ('sport', 'sport')}, {'bbc_entertainment_316.txt': ('entertainment', 'entertainment')}, {'bbc_business_229.txt': ('business', 'business')}, {'bbc_politics_118.txt': ('politics', 'politics')}, {'bbc_sport_100.txt': ('sport', 'sport')}, {'bbc_politics_230.txt': ('politics', 'politics')}, {'bbc_politics_192.txt': ('politics', 'politics')}, {'bbc_entertainment_381.txt': ('entertainment', 'entertainment')}, {'bbc_politics_370.txt': ('politics', 'politics')}, {'bbc_business_126.txt': ('business', 'business')}, {'bbc_sport_013.txt': ('sport', 'sport')}, {'bbc_tech_287.txt': ('tech', 'tech')}, {'bbc_business_204.txt': ('politics', 'business')}, {'bbc_sport_225.txt': ('sport', 'sport')}, {'bbc_entertainment_279.txt': ('entertainment', 'entertainment')}, {'bbc_business_174.txt': ('business', 'business')}, {'bbc_sport_129.txt': ('sport', 'sport')}, {'bbc_sport_114.txt': ('sport', 'sport')}, {'bbc_entertainment_266.txt': ('thecorrectanswerwouldbe:tech', 'entertainment')}, {'bbc_business_284.txt': ('politics', 'business')}, {'bbc_entertainment_156.txt': ('entertainment', 'entertainment')}, {'bbc_tech_293.txt': ('**topic:tech', 'tech')}, {'bbc_tech_306.txt': ('topic:tech', 'tech')}, {'bbc_entertainment_203.txt': ('entertainment', 'entertainment')}, {'bbc_tech_097.txt': ('thecorrectanswer', 'tech')}, {'bbc_business_332.txt': ('business', 'business')}, {'bbc_business_148.txt': ('business', 'business')}, {'bbc_sport_050.txt': ('sport', 'sport')}, {'bbc_sport_445.txt': ('sport', 'sport')}, {'bbc_politics_414.txt': ('politics', 'politics')}, {'bbc_politics_176.txt': ('politics', 'politics')}, {'bbc_entertainment_249.txt': ('entertainment', 'entertainment')}, {'bbc_tech_223.txt': ('tech', 'tech')}, {'bbc_business_436.txt': ('thecorrectanswerwouldbe:entertainment', 'business')}, {'bbc_sport_266.txt': ('sport', 'sport')}, {'bbc_tech_062.txt': ('tech', 'tech')}, {'bbc_tech_091.txt': ('entertainment', 'tech')}, {'bbc_politics_112.txt': ('politics', 'politics')}, {'bbc_sport_415.txt': ('sport', 'sport')}, {'bbc_entertainment_213.txt': ('entertainment', 'entertainment')}, {'bbc_business_292.txt': ('```business```', 'business')}, {'bbc_tech_124.txt': ('entertainment', 'tech')}, {'bbc_business_476.txt': ('business', 'business')}, {'bbc_entertainment_106.txt': ('\"entertainment\"', 'entertainment')}, {'bbc_business_180.txt': ('business', 'business')}, {'bbc_tech_033.txt': ('tech', 'tech')}, {'bbc_sport_255.txt': ('sport', 'sport')}, {'bbc_tech_092.txt': ('tech', 'tech')}, {'bbc_entertainment_231.txt': ('entertainment', 'entertainment')}, {'bbc_business_107.txt': ('\"business\"', 'business')}, {'bbc_tech_182.txt': ('entertainment', 'tech')}, {'bbc_sport_350.txt': ('sport', 'sport')}, {'bbc_politics_120.txt': ('politics', 'politics')}, {'bbc_tech_205.txt': ('tech', 'tech')}, {'bbc_politics_243.txt': ('politics', 'politics')}, {'bbc_sport_357.txt': ('sport', 'sport')}, {'bbc_business_233.txt': ('business', 'business')}, {'bbc_politics_015.txt': ('politics', 'politics')}, {'bbc_tech_230.txt': ('tech', 'tech')}, {'bbc_sport_291.txt': ('sport', 'sport')}, {'bbc_sport_048.txt': ('sport', 'sport')}, {'bbc_politics_385.txt': ('politics', 'politics')}, {'bbc_business_007.txt': ('business', 'business')}, {'bbc_sport_112.txt': ('sport', 'sport')}, {'bbc_tech_221.txt': ('tech', 'tech')}, {'bbc_business_251.txt': ('business', 'business')}, {'bbc_politics_231.txt': ('politics', 'politics')}, {'bbc_politics_345.txt': ('politics', 'politics')}, {'bbc_business_041.txt': ('business', 'business')}, {'bbc_tech_227.txt': ('tech', 'tech')}, {'bbc_sport_402.txt': ('sport', 'sport')}, {'bbc_sport_472.txt': ('sport', 'sport')}, {'bbc_sport_172.txt': ('sport', 'sport')}, {'bbc_business_372.txt': ('business', 'business')}, {'bbc_politics_123.txt': ('politics', 'politics')}, {'bbc_tech_261.txt': ('tech', 'tech')}, {'bbc_business_086.txt': ('business', 'business')}, {'bbc_business_017.txt': ('business', 'business')}, {'bbc_business_451.txt': ('business', 'business')}, {'bbc_sport_246.txt': ('sport', 'sport')}, {'bbc_sport_150.txt': ('sport', 'sport')}, {'bbc_business_422.txt': ('business', 'business')}, {'bbc_business_379.txt': ('business', 'business')}, {'bbc_tech_115.txt': ('tech', 'tech')}, {'bbc_business_260.txt': ('business', 'business')}, {'bbc_entertainment_089.txt': ('entertainment', 'entertainment')}, {'bbc_sport_162.txt': ('sport', 'sport')}, {'bbc_business_316.txt': ('business', 'business')}, {'bbc_sport_344.txt': ('sport', 'sport')}, {'bbc_tech_289.txt': ('tech', 'tech')}, {'bbc_entertainment_222.txt': ('entertainment', 'entertainment')}, {'bbc_business_423.txt': ('business', 'business')}, {'bbc_sport_086.txt': ('sport', 'sport')}, {'bbc_entertainment_074.txt': ('entertainment', 'entertainment')}, {'bbc_business_150.txt': ('business', 'business')}, {'bbc_tech_264.txt': ('tech', 'tech')}, {'bbc_politics_095.txt': ('politics', 'politics')}, {'bbc_politics_135.txt': ('politics', 'politics')}, {'bbc_tech_156.txt': ('tech', 'tech')}, {'bbc_sport_147.txt': ('sport', 'sport')}, {'bbc_politics_082.txt': ('politics', 'politics')}, {'bbc_business_128.txt': (\"{'topic':'business'}\", 'business')}, {'bbc_sport_187.txt': ('sport', 'sport')}, {'bbc_politics_191.txt': ('politics', 'politics')}, {'bbc_business_151.txt': ('business', 'business')}, {'bbc_business_362.txt': ('business', 'business')}, {'bbc_sport_104.txt': ('sport', 'sport')}, {'bbc_business_509.txt': ('business', 'business')}, {'bbc_business_092.txt': ('business', 'business')}, {'bbc_tech_305.txt': ('tech', 'tech')}, {'bbc_politics_238.txt': ('politics', 'politics')}, {'bbc_sport_303.txt': ('thetopicofthetextis:sport', 'sport')}, {'bbc_business_257.txt': ('business', 'business')}, {'bbc_entertainment_125.txt': ('entertainment', 'entertainment')}, {'bbc_sport_126.txt': ('sport', 'sport')}, {'bbc_sport_239.txt': (\"i'vegotit!thetopicofthistextis:sport\", 'sport')}, {'bbc_sport_403.txt': ('sport', 'sport')}, {'bbc_tech_219.txt': ('tech', 'tech')}, {'bbc_business_283.txt': ('business', 'business')}, {'bbc_politics_143.txt': ('politics', 'politics')}, {'bbc_politics_103.txt': ('politics', 'politics')}, {'bbc_tech_232.txt': ('tech', 'tech')}, {'bbc_business_270.txt': ('business', 'business')}, {'bbc_entertainment_031.txt': ('entertainment', 'entertainment')}, {'bbc_tech_141.txt': ('tech', 'tech')}, {'bbc_business_359.txt': ('business', 'business')}, {'bbc_entertainment_151.txt': ('entertainment', 'entertainment')}, {'bbc_entertainment_243.txt': ('entertainment', 'entertainment')}, {'bbc_tech_367.txt': ('tech', 'tech')}, {'bbc_sport_151.txt': ('sport', 'sport')}, {'bbc_business_368.txt': ('business', 'business')}, {'bbc_business_482.txt': ('business', 'business')}, {'bbc_business_210.txt': ('business', 'business')}, {'bbc_business_104.txt': ('politics', 'business')}, {'bbc_politics_048.txt': ('politics', 'politics')}, {'bbc_tech_042.txt': ('tech', 'tech')}, {'bbc_tech_314.txt': ('tech', 'tech')}, {'bbc_entertainment_275.txt': ('entertainment', 'entertainment')}, {'bbc_sport_119.txt': ('sport', 'sport')}, {'bbc_entertainment_362.txt': ('entertainment', 'entertainment')}, {'bbc_sport_470.txt': ('thecorrectansweris:sport', 'sport')}, {'bbc_sport_300.txt': ('sport', 'sport')}, {'bbc_entertainment_337.txt': ('entertainment', 'entertainment')}, {'bbc_tech_057.txt': ('thecorrectanswerwouldbethe\"raymanwentbywarframetothisyearthethecallofduty\"thethisyearthemusicwentbywarframetothisyearthedutycallofthebestman.\"thethisyearthemusicwentbywarframetothisyearthedutycalloftheoriginalitythe2awardwasthisyearthe2005pcsthemusicwentbyfivethelastyearoftheawardedthebestmanwonbycallofdutytheawardthisyearthe2:blackops4callofthisyearthedutycalloftheawardthisyearthemusicwentbywarframetothisyearthedutycalloftheawardthisyearthemusicwentbywarframetothisyearthedutycalloftheoriginalitythe2awardwonbywarthe3wonpcscallofdutythisyearthemusic\"thethisyearthemusicwentbywarframetothisawardthedutycalloftheoriginalwarframe2awardthisyearthemusicwonbywarpcsthemusicwentbyfivecallofthisyearthemusicwentbywarframetowarthisyearthemusicwentbywarthisyearthemusicwentbywarframe3callofthisyearthemusic\"themusicwentbywarthisyearthemusic\"thethisyearthemusicwentbywarframetothisyearthedutycalloftheoriginalwarthisyearthemusicwentbywarthe3awardpcsthemusic\"thethisyearthedutycallofthemusicwentbywarthisyearthedutycalloftheoriginalthisyearthemusicthisyearthemusicwentbywarframetothisyearthemusicwentbycallofthisyearthemusic\"themusicwentbywarframetothisyearthedutycallofthisyearthemusicwentbywarthisyearthewarframetothisyearthedutycalloftheoriginalmusic\"themusicwentbyfivecallofthemusic\"thethisyearthedutyfivepcsthemusicwentbythisyearthemusic\"themusicwentbywarframetothisyearthemusic\"thethisyearthemusicwentbywarframetothisyearthedutycalloftheoriginalwarthisyearthemusicwentbywarthe3awardpcsofthemusicwentbywarframetothisyearthemusicwentbywarthisyearthemusicwentbywarthisyearthedutytheoriginalthisyearthemusicwentbywarthisyearthedutycallofthisyearthemusic\"thethisyearthemusicwentbywarframe2callofthemusicwentbywarthisyearthemusicwentbywarframetothisyearthedutycallofthisyearthemusicwentbywarthisyearthemusic\"thethisyeartheoriginalthisyearthemusicwentbywarframetothisyearthedutycallofthisyearthemusicwentbywarthisyearthemusic\"themusicwentbywarthisyearthemusic\"themusicwentbywarframetothisyearthemusicwentbywarthisyearthedutycallofthisyearthemusicwentbywarframe2\"themusicwentbywarthisyearthedutycallofthisyeartheoriginalmusicwentbywarframe2awardthisyearthemusicwentbywarthisyearthemusicwentbywarframetothisyearthedutycallofthisyearthemusicwentbywarframeto\"thethisyearthemusicwentbywarthisyearthemusicwentbywarthisyearthemusicwentbywarthisyearthemusic\"thethisyearthemusicwentbywarframetothisyearthedutycalloftheoriginalmusicwentbyfiveawardthisyearthemusicwentbywarpcsofthisyearthemusicwentbywarthisyearthedutycallofthemusicwentbywarthisyearthemusic\"themusicwentbywarframe2awardthisyearthemusicwentbywarthisyearthemusic\"thethisyearthedutycallofthisyearthemusicwentbywarframe2awardthisyearthemusic\"thethisyearthemusicwentbywarthisyearthedutycalloftheoriginalmusicwentbywarframe2awardthisyearthemusicwentbypcsofthisyearthemusic\"thethisyearthedutycallofthemusicwentbywarthisyearthisyearthedutycallofthemusicwentbypcsthisyearthemusicwentbywarthisyearthemusic\"thethisyearthemusic\"thethisyearthemusicwentbywarthisyearthedutycallofthisyearthemusic\"thethisyearthemusicwentbywarthisyearthedutycallofthemusicwentbywarthisyearthemusic\"thethisyearthedutycalloftheoriginalmusicwentbyfiveawardthisyearthemusic\"', 'tech')}, {'bbc_business_388.txt': ('politics', 'business')}, {'bbc_politics_347.txt': ('politics', 'politics')}, {'bbc_politics_263.txt': ('politics', 'politics')}, {'bbc_sport_158.txt': ('sport', 'sport')}, {'bbc_business_290.txt': ('business', 'business')}, {'bbc_business_040.txt': ('business', 'business')}, {'bbc_politics_049.txt': ('politics', 'politics')}, {'bbc_sport_189.txt': ('sport', 'sport')}, {'bbc_business_355.txt': ('business', 'business')}, {'bbc_business_375.txt': ('business', 'business')}, {'bbc_business_234.txt': ('business', 'business')}, {'bbc_business_006.txt': ('business', 'business')}, {'bbc_business_261.txt': ('business', 'business')}, {'bbc_politics_273.txt': ('politics', 'politics')}, {'bbc_entertainment_190.txt': ('entertainment', 'entertainment')}, {'bbc_business_487.txt': ('\"politics\"', 'business')}, {'bbc_sport_469.txt': ('sport', 'sport')}, {'bbc_entertainment_262.txt': ('entertainment', 'entertainment')}, {'bbc_business_186.txt': ('business', 'business')}, {'bbc_sport_323.txt': ('sport', 'sport')}, {'bbc_entertainment_186.txt': ('\"entertainment\"', 'entertainment')}, {'bbc_entertainment_291.txt': ('entertainment', 'entertainment')}, {'bbc_business_328.txt': ('politics', 'business')}, {'bbc_entertainment_320.txt': ('entertainment', 'entertainment')}, {'bbc_politics_361.txt': ('politics', 'politics')}, {'bbc_sport_428.txt': ('sport', 'sport')}, {'bbc_entertainment_209.txt': ('thecorrectinreallytheshowthepublicsaiditwashisshowofhimagain,oneof10%offtheamattheoverhisshowthewebtotheitinreallytheshow.theysaidtheshowhisshowofhimagain,oneof10%isreallytheattheoverhisshowthewebtotheitthehisshowtotheactionandgivenfortheshowfeaturenovemberonthefirst.', 'entertainment')}, {'bbc_sport_191.txt': ('sport', 'sport')}, {'bbc_entertainment_150.txt': ('entertainment', 'entertainment')}, {'bbc_politics_264.txt': ('politics', 'politics')}, {'bbc_sport_458.txt': ('sport', 'sport')}, {'bbc_entertainment_048.txt': ('entertainment', 'entertainment')}, {'bbc_sport_237.txt': ('tobe,thetopicis:sport', 'sport')}, {'bbc_politics_359.txt': ('thecorrectansweris:politics', 'politics')}, {'bbc_politics_188.txt': ('politics', 'politics')}, {'bbc_politics_357.txt': ('thecorrectanswer,however,tobehadhisasgoodthe\"thecorrecthadareashesaid\"wehavetheplanshave.thecorrectansweris:politics', 'politics')}, {'bbc_business_073.txt': ('\"business\"', 'business')}, {'bbc_politics_028.txt': ('politics', 'politics')}, {'bbc_business_010.txt': ('business', 'business')}, {'bbc_tech_218.txt': ('\"entertainment\"', 'tech')}, {'bbc_sport_094.txt': ('sport', 'sport')}, {'bbc_sport_392.txt': ('thecorrect,histeamwilliams,histeamwilliams4.1histeam,histeamwilliams4.hewashisteamhisteamwilliams4.hetheteamwilliams.heheinwilliamswhose4.whichwilliams.hehasteamwilliams.thewilliams.\"', 'sport')}, {'bbc_tech_249.txt': ('tech', 'tech')}, {'bbc_business_266.txt': ('business', 'business')}, {'bbc_politics_397.txt': ('politics', 'politics')}, {'bbc_sport_432.txt': ('thetopicofthetextis:sport', 'sport')}, {'bbc_sport_425.txt': ('sport', 'sport')}, {'bbc_business_114.txt': ('business', 'business')}, {'bbc_tech_083.txt': ('{\"topic\":\"tech\"}', 'tech')}, {'bbc_politics_240.txt': ('sport', 'politics')}, {'bbc_business_361.txt': ('{\"topic\":\"business\"}', 'business')}, {'bbc_tech_111.txt': ('tech', 'tech')}, {'bbc_entertainment_011.txt': ('entertainment', 'entertainment')}, {'bbc_business_458.txt': ('business', 'business')}, {'bbc_politics_398.txt': ('politics', 'politics')}, {'bbc_tech_010.txt': ('tech', 'tech')}, {'bbc_entertainment_357.txt': ('entertainment', 'entertainment')}, {'bbc_politics_129.txt': ('politics', 'politics')}, {'bbc_sport_293.txt': ('thecorrectanswerwouldbe:sport', 'sport')}, {'bbc_entertainment_015.txt': ('entertainment', 'entertainment')}, {'bbc_politics_331.txt': ('politics', 'politics')}, {'bbc_entertainment_080.txt': ('entertainment', 'entertainment')}, {'bbc_business_336.txt': ('business', 'business')}, {'bbc_sport_305.txt': ('thecorrectonto\"wehaveahadextremely,theandtheplatformtotheserviceandthethecorrect', 'sport')}, {'bbc_business_135.txt': ('business', 'business')}, {'bbc_tech_286.txt': ('tech', 'tech')}]\n",
      "[{'bbc_tech_246.txt': ('tech', 'tech')}, {'bbc_tech_099.txt': ('tech', 'tech')}, {'bbc_entertainment_376.txt': ('entertainment', 'entertainment')}, {'bbc_business_068.txt': ('business', 'business')}, {'bbc_entertainment_195.txt': ('entertainment', 'entertainment')}, {'bbc_politics_290.txt': ('politics', 'politics')}, {'bbc_business_365.txt': ('business', 'business')}, {'bbc_entertainment_314.txt': ('entertainment', 'entertainment')}, {'bbc_business_069.txt': ('business', 'business')}, {'bbc_business_402.txt': ('business', 'business')}, {'bbc_sport_194.txt': ('sport', 'sport')}, {'bbc_tech_021.txt': ('tech', 'tech')}, {'bbc_tech_244.txt': ('entertainment', 'tech')}, {'bbc_sport_423.txt': ('sport', 'sport')}, {'bbc_entertainment_289.txt': ('entertainment', 'entertainment')}, {'bbc_politics_190.txt': ('politics', 'politics')}, {'bbc_politics_011.txt': ('politics', 'politics')}, {'bbc_tech_204.txt': ('tech', 'tech')}, {'bbc_tech_159.txt': ('tech', 'tech')}, {'bbc_politics_003.txt': ('politics', 'politics')}, {'bbc_entertainment_221.txt': ('entertainment', 'entertainment')}, {'bbc_entertainment_072.txt': ('entertainment', 'entertainment')}, {'bbc_politics_407.txt': ('politics', 'politics')}, {'bbc_tech_116.txt': ('tech', 'tech')}, {'bbc_business_074.txt': ('business', 'business')}, {'bbc_entertainment_280.txt': ('entertainment', 'entertainment')}, {'bbc_sport_398.txt': ('sport', 'sport')}, {'bbc_business_159.txt': ('business', 'business')}, {'bbc_tech_016.txt': ('tech', 'tech')}, {'bbc_entertainment_306.txt': ('entertainment', 'entertainment')}, {'bbc_sport_484.txt': ('business', 'sport')}, {'bbc_sport_376.txt': ('sport', 'sport')}, {'bbc_sport_103.txt': ('sport', 'sport')}, {'bbc_sport_123.txt': ('sport', 'sport')}, {'bbc_politics_029.txt': ('politics', 'politics')}, {'bbc_politics_193.txt': ('politics', 'politics')}, {'bbc_politics_156.txt': ('', 'politics')}, {'bbc_business_198.txt': ('business', 'business')}, {'bbc_entertainment_271.txt': ('business', 'entertainment')}, {'bbc_tech_087.txt': ('tech', 'tech')}, {'bbc_sport_345.txt': ('sport', 'sport')}, {'bbc_politics_052.txt': ('politics', 'politics')}, {'bbc_entertainment_349.txt': ('entertainment', 'entertainment')}, {'bbc_sport_248.txt': ('sport', 'sport')}, {'bbc_sport_046.txt': ('sport', 'sport')}, {'bbc_business_079.txt': ('business', 'business')}, {'bbc_business_453.txt': ('business', 'business')}, {'bbc_business_066.txt': ('business', 'business')}, {'bbc_politics_358.txt': ('tech', 'politics')}, {'bbc_entertainment_204.txt': ('entertainment', 'entertainment')}, {'bbc_entertainment_090.txt': ('entertainment', 'entertainment')}, {'bbc_entertainment_220.txt': ('tech', 'entertainment')}, {'bbc_entertainment_010.txt': ('politics', 'entertainment')}, {'bbc_entertainment_044.txt': ('entertainment', 'entertainment')}, {'bbc_tech_318.txt': ('tech', 'tech')}, {'bbc_business_427.txt': ('business', 'business')}, {'bbc_sport_116.txt': ('sport', 'sport')}, {'bbc_business_119.txt': ('business', 'business')}, {'bbc_business_014.txt': ('business', 'business')}, {'bbc_tech_125.txt': ('tech', 'tech')}, {'bbc_business_144.txt': ('business', 'business')}, {'bbc_tech_213.txt': ('tech', 'tech')}, {'bbc_entertainment_013.txt': ('entertainment', 'entertainment')}, {'bbc_sport_032.txt': ('sport', 'sport')}, {'bbc_sport_313.txt': ('sport', 'sport')}, {'bbc_business_410.txt': ('business', 'business')}, {'bbc_entertainment_257.txt': ('entertainment', 'entertainment')}, {'bbc_entertainment_178.txt': ('entertainment', 'entertainment')}, {'bbc_sport_457.txt': ('sport', 'sport')}, {'bbc_tech_272.txt': ('tech', 'tech')}, {'bbc_sport_371.txt': ('sport', 'sport')}, {'bbc_sport_093.txt': ('sport', 'sport')}, {'bbc_tech_256.txt': ('entertainment', 'tech')}, {'bbc_business_378.txt': ('business', 'business')}, {'bbc_tech_247.txt': ('tech', 'tech')}, {'bbc_entertainment_285.txt': ('entertainment', 'entertainment')}, {'bbc_entertainment_148.txt': ('entertainment', 'entertainment')}, {'bbc_politics_330.txt': ('politics', 'politics')}, {'bbc_politics_097.txt': ('politics', 'politics')}, {'bbc_entertainment_368.txt': ('entertainment', 'entertainment')}, {'bbc_business_318.txt': ('business', 'business')}, {'bbc_tech_340.txt': ('tech', 'tech')}, {'bbc_politics_111.txt': ('politics', 'politics')}, {'bbc_business_255.txt': ('business', 'business')}, {'bbc_business_220.txt': ('business', 'business')}, {'bbc_politics_005.txt': ('politics', 'politics')}, {'bbc_sport_451.txt': ('sport', 'sport')}, {'bbc_sport_181.txt': ('sport', 'sport')}, {'bbc_sport_414.txt': ('sport', 'sport')}, {'bbc_politics_338.txt': ('politics', 'politics')}, {'bbc_politics_337.txt': ('politics', 'politics')}, {'bbc_business_346.txt': ('business', 'business')}, {'bbc_business_349.txt': ('business', 'business')}, {'bbc_business_192.txt': ('business', 'business')}, {'bbc_tech_041.txt': ('tech', 'tech')}, {'bbc_sport_483.txt': ('sport', 'sport')}, {'bbc_politics_232.txt': ('politics', 'politics')}, {'bbc_entertainment_145.txt': ('entertainment', 'entertainment')}, {'bbc_politics_327.txt': ('politics', 'politics')}, {'bbc_entertainment_086.txt': ('entertainment', 'entertainment')}, {'bbc_sport_231.txt': ('sport', 'sport')}, {'bbc_tech_385.txt': ('tech', 'tech')}, {'bbc_entertainment_305.txt': ('entertainment', 'entertainment')}, {'bbc_politics_136.txt': ('politics', 'politics')}, {'bbc_business_250.txt': ('business', 'business')}, {'bbc_entertainment_355.txt': ('entertainment', 'entertainment')}, {'bbc_sport_354.txt': ('sport', 'sport')}, {'bbc_tech_357.txt': ('tech', 'tech')}, {'bbc_politics_023.txt': ('business', 'politics')}, {'bbc_sport_222.txt': ('sport', 'sport')}, {'bbc_sport_264.txt': ('sport', 'sport')}, {'bbc_sport_308.txt': ('sport', 'sport')}, {'bbc_tech_243.txt': ('tech', 'tech')}, {'bbc_entertainment_336.txt': ('entertainment', 'entertainment')}, {'bbc_sport_419.txt': ('sport', 'sport')}, {'bbc_business_369.txt': ('business', 'business')}, {'bbc_politics_059.txt': ('politics', 'politics')}, {'bbc_sport_502.txt': ('sport', 'sport')}, {'bbc_politics_072.txt': ('politics', 'politics')}, {'bbc_sport_401.txt': ('sport', 'sport')}, {'bbc_business_217.txt': ('politics', 'business')}, {'bbc_politics_227.txt': ('politics', 'politics')}, {'bbc_politics_214.txt': ('politics', 'politics')}, {'bbc_tech_235.txt': ('business', 'tech')}, {'bbc_politics_098.txt': ('politics', 'politics')}, {'bbc_sport_014.txt': ('sport', 'sport')}, {'bbc_tech_327.txt': ('tech', 'tech')}, {'bbc_sport_124.txt': ('sport', 'sport')}, {'bbc_business_181.txt': ('business', 'business')}, {'bbc_tech_343.txt': ('tech', 'tech')}, {'bbc_tech_294.txt': ('tech', 'tech')}, {'bbc_sport_247.txt': ('sport', 'sport')}, {'bbc_business_371.txt': ('business', 'business')}, {'bbc_sport_241.txt': ('sport', 'sport')}, {'bbc_tech_090.txt': ('entertainment', 'tech')}, {'bbc_entertainment_063.txt': ('entertainment', 'entertainment')}, {'bbc_sport_453.txt': ('sport', 'sport')}, {'bbc_entertainment_050.txt': ('entertainment', 'entertainment')}, {'bbc_sport_019.txt': ('sport', 'sport')}, {'bbc_business_376.txt': ('business', 'business')}, {'bbc_business_134.txt': ('business', 'business')}, {'bbc_sport_316.txt': ('sport', 'sport')}, {'bbc_business_508.txt': ('business', 'business')}, {'bbc_tech_064.txt': ('tech', 'tech')}, {'bbc_entertainment_342.txt': ('entertainment', 'entertainment')}, {'bbc_sport_092.txt': ('sport', 'sport')}, {'bbc_entertainment_316.txt': ('entertainment', 'entertainment')}, {'bbc_business_229.txt': ('business', 'business')}, {'bbc_politics_118.txt': ('politics', 'politics')}, {'bbc_sport_100.txt': ('sport', 'sport')}, {'bbc_politics_230.txt': ('politics', 'politics')}, {'bbc_politics_192.txt': ('politics', 'politics')}, {'bbc_entertainment_381.txt': ('entertainment', 'entertainment')}, {'bbc_politics_370.txt': ('politics', 'politics')}, {'bbc_business_126.txt': ('business', 'business')}, {'bbc_sport_013.txt': ('sport', 'sport')}, {'bbc_tech_287.txt': ('tech', 'tech')}, {'bbc_business_204.txt': ('politics', 'business')}, {'bbc_sport_225.txt': ('sport', 'sport')}, {'bbc_entertainment_279.txt': ('entertainment', 'entertainment')}, {'bbc_business_174.txt': ('business', 'business')}, {'bbc_sport_129.txt': ('sport', 'sport')}, {'bbc_sport_114.txt': ('sport', 'sport')}, {'bbc_entertainment_266.txt': ('tech', 'entertainment')}, {'bbc_business_284.txt': ('politics', 'business')}, {'bbc_entertainment_156.txt': ('entertainment', 'entertainment')}, {'bbc_tech_293.txt': ('tech', 'tech')}, {'bbc_tech_306.txt': ('tech', 'tech')}, {'bbc_entertainment_203.txt': ('entertainment', 'entertainment')}, {'bbc_tech_097.txt': ('tech', 'tech')}, {'bbc_business_332.txt': ('business', 'business')}, {'bbc_business_148.txt': ('business', 'business')}, {'bbc_sport_050.txt': ('sport', 'sport')}, {'bbc_sport_445.txt': ('sport', 'sport')}, {'bbc_politics_414.txt': ('politics', 'politics')}, {'bbc_politics_176.txt': ('politics', 'politics')}, {'bbc_entertainment_249.txt': ('entertainment', 'entertainment')}, {'bbc_tech_223.txt': ('tech', 'tech')}, {'bbc_business_436.txt': ('entertainment', 'business')}, {'bbc_sport_266.txt': ('sport', 'sport')}, {'bbc_tech_062.txt': ('tech', 'tech')}, {'bbc_tech_091.txt': ('entertainment', 'tech')}, {'bbc_politics_112.txt': ('politics', 'politics')}, {'bbc_sport_415.txt': ('sport', 'sport')}, {'bbc_entertainment_213.txt': ('entertainment', 'entertainment')}, {'bbc_business_292.txt': ('business', 'business')}, {'bbc_tech_124.txt': ('entertainment', 'tech')}, {'bbc_business_476.txt': ('business', 'business')}, {'bbc_entertainment_106.txt': ('entertainment', 'entertainment')}, {'bbc_business_180.txt': ('business', 'business')}, {'bbc_tech_033.txt': ('tech', 'tech')}, {'bbc_sport_255.txt': ('sport', 'sport')}, {'bbc_tech_092.txt': ('tech', 'tech')}, {'bbc_entertainment_231.txt': ('entertainment', 'entertainment')}, {'bbc_business_107.txt': ('business', 'business')}, {'bbc_tech_182.txt': ('entertainment', 'tech')}, {'bbc_sport_350.txt': ('sport', 'sport')}, {'bbc_politics_120.txt': ('politics', 'politics')}, {'bbc_tech_205.txt': ('tech', 'tech')}, {'bbc_politics_243.txt': ('politics', 'politics')}, {'bbc_sport_357.txt': ('sport', 'sport')}, {'bbc_business_233.txt': ('business', 'business')}, {'bbc_politics_015.txt': ('politics', 'politics')}, {'bbc_tech_230.txt': ('tech', 'tech')}, {'bbc_sport_291.txt': ('sport', 'sport')}, {'bbc_sport_048.txt': ('sport', 'sport')}, {'bbc_politics_385.txt': ('politics', 'politics')}, {'bbc_business_007.txt': ('business', 'business')}, {'bbc_sport_112.txt': ('sport', 'sport')}, {'bbc_tech_221.txt': ('tech', 'tech')}, {'bbc_business_251.txt': ('business', 'business')}, {'bbc_politics_231.txt': ('politics', 'politics')}, {'bbc_politics_345.txt': ('politics', 'politics')}, {'bbc_business_041.txt': ('business', 'business')}, {'bbc_tech_227.txt': ('tech', 'tech')}, {'bbc_sport_402.txt': ('sport', 'sport')}, {'bbc_sport_472.txt': ('sport', 'sport')}, {'bbc_sport_172.txt': ('sport', 'sport')}, {'bbc_business_372.txt': ('business', 'business')}, {'bbc_politics_123.txt': ('politics', 'politics')}, {'bbc_tech_261.txt': ('tech', 'tech')}, {'bbc_business_086.txt': ('business', 'business')}, {'bbc_business_017.txt': ('business', 'business')}, {'bbc_business_451.txt': ('business', 'business')}, {'bbc_sport_246.txt': ('sport', 'sport')}, {'bbc_sport_150.txt': ('sport', 'sport')}, {'bbc_business_422.txt': ('business', 'business')}, {'bbc_business_379.txt': ('business', 'business')}, {'bbc_tech_115.txt': ('tech', 'tech')}, {'bbc_business_260.txt': ('business', 'business')}, {'bbc_entertainment_089.txt': ('entertainment', 'entertainment')}, {'bbc_sport_162.txt': ('sport', 'sport')}, {'bbc_business_316.txt': ('business', 'business')}, {'bbc_sport_344.txt': ('sport', 'sport')}, {'bbc_tech_289.txt': ('tech', 'tech')}, {'bbc_entertainment_222.txt': ('entertainment', 'entertainment')}, {'bbc_business_423.txt': ('business', 'business')}, {'bbc_sport_086.txt': ('sport', 'sport')}, {'bbc_entertainment_074.txt': ('entertainment', 'entertainment')}, {'bbc_business_150.txt': ('business', 'business')}, {'bbc_tech_264.txt': ('tech', 'tech')}, {'bbc_politics_095.txt': ('politics', 'politics')}, {'bbc_politics_135.txt': ('politics', 'politics')}, {'bbc_tech_156.txt': ('tech', 'tech')}, {'bbc_sport_147.txt': ('sport', 'sport')}, {'bbc_politics_082.txt': ('politics', 'politics')}, {'bbc_business_128.txt': ('business', 'business')}, {'bbc_sport_187.txt': ('sport', 'sport')}, {'bbc_politics_191.txt': ('politics', 'politics')}, {'bbc_business_151.txt': ('business', 'business')}, {'bbc_business_362.txt': ('business', 'business')}, {'bbc_sport_104.txt': ('sport', 'sport')}, {'bbc_business_509.txt': ('business', 'business')}, {'bbc_business_092.txt': ('business', 'business')}, {'bbc_tech_305.txt': ('tech', 'tech')}, {'bbc_politics_238.txt': ('politics', 'politics')}, {'bbc_sport_303.txt': ('sport', 'sport')}, {'bbc_business_257.txt': ('business', 'business')}, {'bbc_entertainment_125.txt': ('entertainment', 'entertainment')}, {'bbc_sport_126.txt': ('sport', 'sport')}, {'bbc_sport_239.txt': ('sport', 'sport')}, {'bbc_sport_403.txt': ('sport', 'sport')}, {'bbc_tech_219.txt': ('tech', 'tech')}, {'bbc_business_283.txt': ('business', 'business')}, {'bbc_politics_143.txt': ('politics', 'politics')}, {'bbc_politics_103.txt': ('politics', 'politics')}, {'bbc_tech_232.txt': ('tech', 'tech')}, {'bbc_business_270.txt': ('business', 'business')}, {'bbc_entertainment_031.txt': ('entertainment', 'entertainment')}, {'bbc_tech_141.txt': ('tech', 'tech')}, {'bbc_business_359.txt': ('business', 'business')}, {'bbc_entertainment_151.txt': ('entertainment', 'entertainment')}, {'bbc_entertainment_243.txt': ('entertainment', 'entertainment')}, {'bbc_tech_367.txt': ('tech', 'tech')}, {'bbc_sport_151.txt': ('sport', 'sport')}, {'bbc_business_368.txt': ('business', 'business')}, {'bbc_business_482.txt': ('business', 'business')}, {'bbc_business_210.txt': ('business', 'business')}, {'bbc_business_104.txt': ('politics', 'business')}, {'bbc_politics_048.txt': ('politics', 'politics')}, {'bbc_tech_042.txt': ('tech', 'tech')}, {'bbc_tech_314.txt': ('tech', 'tech')}, {'bbc_entertainment_275.txt': ('entertainment', 'entertainment')}, {'bbc_sport_119.txt': ('sport', 'sport')}, {'bbc_entertainment_362.txt': ('entertainment', 'entertainment')}, {'bbc_sport_470.txt': ('sport', 'sport')}, {'bbc_sport_300.txt': ('sport', 'sport')}, {'bbc_entertainment_337.txt': ('entertainment', 'entertainment')}, {'bbc_tech_057.txt': ('tech', 'tech')}, {'bbc_business_388.txt': ('politics', 'business')}, {'bbc_politics_347.txt': ('politics', 'politics')}, {'bbc_politics_263.txt': ('politics', 'politics')}, {'bbc_sport_158.txt': ('sport', 'sport')}, {'bbc_business_290.txt': ('business', 'business')}, {'bbc_business_040.txt': ('business', 'business')}, {'bbc_politics_049.txt': ('politics', 'politics')}, {'bbc_sport_189.txt': ('sport', 'sport')}, {'bbc_business_355.txt': ('business', 'business')}, {'bbc_business_375.txt': ('business', 'business')}, {'bbc_business_234.txt': ('business', 'business')}, {'bbc_business_006.txt': ('business', 'business')}, {'bbc_business_261.txt': ('business', 'business')}, {'bbc_politics_273.txt': ('politics', 'politics')}, {'bbc_entertainment_190.txt': ('entertainment', 'entertainment')}, {'bbc_business_487.txt': ('politics', 'business')}, {'bbc_sport_469.txt': ('sport', 'sport')}, {'bbc_entertainment_262.txt': ('entertainment', 'entertainment')}, {'bbc_business_186.txt': ('business', 'business')}, {'bbc_sport_323.txt': ('sport', 'sport')}, {'bbc_entertainment_186.txt': ('entertainment', 'entertainment')}, {'bbc_entertainment_291.txt': ('entertainment', 'entertainment')}, {'bbc_business_328.txt': ('politics', 'business')}, {'bbc_entertainment_320.txt': ('entertainment', 'entertainment')}, {'bbc_politics_361.txt': ('politics', 'politics')}, {'bbc_sport_428.txt': ('sport', 'sport')}, {'bbc_entertainment_209.txt': ('tech', 'entertainment')}, {'bbc_sport_191.txt': ('sport', 'sport')}, {'bbc_entertainment_150.txt': ('entertainment', 'entertainment')}, {'bbc_politics_264.txt': ('politics', 'politics')}, {'bbc_sport_458.txt': ('sport', 'sport')}, {'bbc_entertainment_048.txt': ('entertainment', 'entertainment')}, {'bbc_sport_237.txt': ('sport', 'sport')}, {'bbc_politics_359.txt': ('politics', 'politics')}, {'bbc_politics_188.txt': ('politics', 'politics')}, {'bbc_politics_357.txt': ('politics', 'politics')}, {'bbc_business_073.txt': ('business', 'business')}, {'bbc_politics_028.txt': ('politics', 'politics')}, {'bbc_business_010.txt': ('business', 'business')}, {'bbc_tech_218.txt': ('entertainment', 'tech')}, {'bbc_sport_094.txt': ('sport', 'sport')}, {'bbc_sport_392.txt': ('tech', 'sport')}, {'bbc_tech_249.txt': ('tech', 'tech')}, {'bbc_business_266.txt': ('business', 'business')}, {'bbc_politics_397.txt': ('politics', 'politics')}, {'bbc_sport_432.txt': ('sport', 'sport')}, {'bbc_sport_425.txt': ('sport', 'sport')}, {'bbc_business_114.txt': ('business', 'business')}, {'bbc_tech_083.txt': ('tech', 'tech')}, {'bbc_politics_240.txt': ('sport', 'politics')}, {'bbc_business_361.txt': ('business', 'business')}, {'bbc_tech_111.txt': ('tech', 'tech')}, {'bbc_entertainment_011.txt': ('entertainment', 'entertainment')}, {'bbc_business_458.txt': ('business', 'business')}, {'bbc_politics_398.txt': ('politics', 'politics')}, {'bbc_tech_010.txt': ('tech', 'tech')}, {'bbc_entertainment_357.txt': ('entertainment', 'entertainment')}, {'bbc_politics_129.txt': ('politics', 'politics')}, {'bbc_sport_293.txt': ('sport', 'sport')}, {'bbc_entertainment_015.txt': ('entertainment', 'entertainment')}, {'bbc_politics_331.txt': ('politics', 'politics')}, {'bbc_entertainment_080.txt': ('entertainment', 'entertainment')}, {'bbc_business_336.txt': ('business', 'business')}, {'bbc_sport_305.txt': ('tech', 'sport')}, {'bbc_business_135.txt': ('business', 'business')}, {'bbc_tech_286.txt': ('tech', 'tech')}]\n"
     ]
    }
   ],
   "source": [
    "#matching the results with the correct answers\n",
    "import difflib\n",
    "from thefuzz import fuzz\n",
    "def post_process(results):\n",
    "      test_df.loc['result'] = None\n",
    "      string_list = [\"business\", \"entertainment\", \"politics\",\"sport\",\"tech\"]\n",
    "      final_results = []\n",
    "      for result in results:\n",
    "            similarity = []\n",
    "            for string in string_list:\n",
    "                  similarity.append([fuzz.partial_ratio(list(result.values())[0][0], string),string])\n",
    "            max_similarity = max(similarity)\n",
    "            \n",
    "            if (max_similarity[0]>60):\n",
    "                  final_results.append({list(result.keys())[0]: (max_similarity[1], list(result.values())[0][1])})\n",
    "                  test_df.loc[test_df['name'] == list(result.keys())[0], 'result'] = max_similarity[1]\n",
    "\n",
    "            else:\n",
    "                  final_results.append({list(result.keys())[0]: (\"\", list(result.values())[0][1])})\n",
    "                  test_df.loc[test_df['name'] == list(result.keys())[0], 'result'] = \"\"\n",
    "\n",
    "\n",
    "      test_df.to_csv(r\"E:\\uni\\NLP group project\\llama_bbc.csv\", index=False)\n",
    "      return final_results\n",
    "result_with_correct_answer_pre_post_process = results_with_correct_answer\n",
    "print(result_with_correct_answer_pre_post_process)\n",
    "results_with_correct_answer = post_process(results_with_correct_answer)\n",
    "print(results_with_correct_answer)"
   ]
  },
  {
   "cell_type": "code",
   "execution_count": 28,
   "metadata": {},
   "outputs": [],
   "source": [
    "def extract_ground_truth_and_predictions(results_with_correct_answer):\n",
    "    ground_truth = []\n",
    "    predictions = []\n",
    "    for result in results_with_correct_answer:\n",
    "        for key, value in result.items():\n",
    "            ground_truth.append(value[1])\n",
    "            predictions.append(value[0])\n",
    "    return ground_truth, predictions\n",
    "ground_truth, predictions = extract_ground_truth_and_predictions(results_with_correct_answer)"
   ]
  },
  {
   "cell_type": "code",
   "execution_count": 29,
   "metadata": {},
   "outputs": [],
   "source": [
    "def calculate_NMI(ground_truth, predictions):\n",
    "    \n",
    "    nmi_score = normalized_mutual_info_score(ground_truth, predictions)\n",
    "    print(f\"Normalized Mutual Information Score: {nmi_score}\")\n",
    "    return nmi_score\n"
   ]
  },
  {
   "cell_type": "code",
   "execution_count": null,
   "metadata": {},
   "outputs": [],
   "source": [
    "import numpy as np\n",
    "from collections import Counter\n",
    "\n",
    "def calculate_purity(predicted_labels, true_labels):\n",
    "    predicted_labels = np.array(predicted_labels)\n",
    "    true_labels = np.array(true_labels)\n",
    "    \n",
    "    unique_clusters = np.unique(predicted_labels)\n",
    "    \n",
    "    total_instances = len(true_labels)\n",
    "    \n",
    "    correctly_classified = 0\n",
    "    for cluster in unique_clusters:\n",
    "        indices_in_cluster = np.where(predicted_labels == cluster)[0]\n",
    "        labels_in_cluster = true_labels[indices_in_cluster]\n",
    "        \n",
    "        majority_label_count = Counter(labels_in_cluster).most_common(1)[0][1]\n",
    "        \n",
    "        correctly_classified += majority_label_count\n",
    "    \n",
    "    purity = correctly_classified / total_instances\n",
    "    print(f\"Purity: {purity}\")\n",
    "    return purity\n",
    "\n",
    "\n",
    "\n"
   ]
  },
  {
   "cell_type": "code",
   "execution_count": null,
   "metadata": {},
   "outputs": [],
   "source": [
    "def calculate_accuracy(predicted_labels, true_labels):\n",
    "    if len(predicted_labels) != len(true_labels):\n",
    "        raise ValueError(\"The length of predicted and true labels must be the same.\")\n",
    "    \n",
    "    correct_predictions = sum(1 for pred, true in zip(predicted_labels, true_labels) if pred == true)\n",
    "    \n",
    "    accuracy = correct_predictions / len(true_labels)\n",
    "    print(f\"Accuracy: {accuracy}\")\n",
    "    return accuracy\n",
    "\n",
    "\n",
    "\n"
   ]
  },
  {
   "cell_type": "code",
   "execution_count": null,
   "metadata": {},
   "outputs": [],
   "source": [
    "from sklearn.metrics import f1_score\n",
    "def calculate_f1_score(ground_truth, predictions):\n",
    "\n",
    "    f1 = f1_score(ground_truth, predictions, average='micro') \n",
    "    print(f\"F1 Score: {f1}\")\n",
    "    return f1\n",
    "\n"
   ]
  },
  {
   "cell_type": "code",
   "execution_count": 33,
   "metadata": {},
   "outputs": [
    {
     "name": "stdout",
     "output_type": "stream",
     "text": [
      "Normalized Mutual Information Score: 0.806337057133388\n",
      "Purity: 0.923943661971831\n",
      "Accuracy: 0.9211267605633803\n",
      "F1 Score: 0.9211267605633803\n"
     ]
    },
    {
     "data": {
      "text/plain": [
       "0.9211267605633803"
      ]
     },
     "execution_count": 33,
     "metadata": {},
     "output_type": "execute_result"
    }
   ],
   "source": [
    "calculate_NMI(ground_truth, predictions)\n",
    "calculate_purity(predictions, ground_truth)\n",
    "calculate_accuracy(predictions, ground_truth)\n",
    "calculate_f1_score(ground_truth, predictions)"
   ]
  },
  {
   "cell_type": "code",
   "execution_count": null,
   "metadata": {},
   "outputs": [],
   "source": []
  }
 ],
 "metadata": {
  "kernelspec": {
   "display_name": "Python 3",
   "language": "python",
   "name": "python3"
  },
  "language_info": {
   "codemirror_mode": {
    "name": "ipython",
    "version": 3
   },
   "file_extension": ".py",
   "mimetype": "text/x-python",
   "name": "python",
   "nbconvert_exporter": "python",
   "pygments_lexer": "ipython3",
   "version": "3.12.0"
  }
 },
 "nbformat": 4,
 "nbformat_minor": 2
}
