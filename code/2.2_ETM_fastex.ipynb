{
  "cells": [
    {
      "cell_type": "code",
      "execution_count": 2,
      "id": "hpoMwu1CZzNo",
      "metadata": {
        "id": "hpoMwu1CZzNo"
      },
      "outputs": [],
      "source": [
        "import pandas as pd\n",
        "import numpy as np\n",
        "import time\n",
        "\n",
        "from collections import Counter\n",
        "import gensim\n",
        "from gensim.models import CoherenceModel\n",
        "\n",
        "from sklearn import metrics\n",
        "from sklearn.model_selection import train_test_split\n",
        "from sklearn.metrics import normalized_mutual_info_score\n",
        "from sklearn.preprocessing import LabelEncoder\n"
      ]
    },
    {
      "cell_type": "markdown",
      "id": "be646fd8",
      "metadata": {
        "id": "be646fd8"
      },
      "source": [
        "# Model\n",
        "- ETM\n",
        "\n",
        "# Step 1: Load dataset"
      ]
    },
    {
      "cell_type": "code",
      "execution_count": 3,
      "id": "GP_hXvyoNEZ4",
      "metadata": {
        "id": "GP_hXvyoNEZ4"
      },
      "outputs": [],
      "source": [
        "# News Groups dataset\n",
        "newsgroups_data = pd.read_csv('data/fetch_7newsgroups.csv')\n",
        "newsgroups_data.dropna(inplace=True,subset='label')\n",
        "label_encoder_newsgroups = LabelEncoder()\n",
        "newsgroups_data['topic'] = label_encoder_newsgroups.fit_transform(newsgroups_data['label'])\n",
        "\n",
        "newsgroup_text = newsgroups_data['text'].tolist()\n",
        "newsgroup_labels = newsgroups_data['topic'].tolist()\n",
        "\n",
        "\n",
        "# BBC News dataset\n",
        "bbc_news = pd.read_csv(\"data/bbc-news-data.csv\",sep=\"\\t\")  # Load the BBC dataset\n",
        "\n",
        "label_encoder_bbc = LabelEncoder()\n",
        "bbc_news['topic'] = label_encoder_bbc.fit_transform(bbc_news['category'])\n",
        "\n",
        "bbc_texts = bbc_news.apply(lambda r:r.title+r.content,axis=1).to_list()\n",
        "bbc_labels = bbc_news['topic'].to_list()\n"
      ]
    },
    {
      "cell_type": "code",
      "execution_count": 4,
      "id": "yJnsZ829NJ9r",
      "metadata": {
        "colab": {
          "base_uri": "https://localhost:8080/"
        },
        "id": "yJnsZ829NJ9r",
        "outputId": "79f7237a-fe84-4f6c-e029-9540ad7c87d2"
      },
      "outputs": [
        {
          "name": "stderr",
          "output_type": "stream",
          "text": [
            "[nltk_data] Downloading package stopwords to /root/nltk_data...\n",
            "[nltk_data]   Package stopwords is already up-to-date!\n"
          ]
        }
      ],
      "source": [
        "import re\n",
        "import string\n",
        "from nltk.stem import PorterStemmer\n",
        "from nltk.corpus import stopwords\n",
        "import nltk\n",
        "nltk.download('stopwords')\n",
        "\n",
        "stop_words = set(stopwords.words('english'))\n",
        "\n",
        "\n",
        "def preprocess_text(text,preprocess=True):\n",
        "    if not preprocess:\n",
        "        return text\n",
        "    # Convert text to lowercase\n",
        "    text = text.lower()\n",
        "\n",
        "    # Replace email addresses with 'EMAIL'\n",
        "    text = re.sub(r'\\b[A-Za-z0-9._%+-]+@[A-Za-z0-9.-]+\\.[A-Za-z]{2,}\\b', 'EMAIL', text)\n",
        "\n",
        "    # Replace URLs with 'HTTP'\n",
        "    text = re.sub(r'https?://\\S+|www\\.\\S+', 'HTTP', text)\n",
        "\n",
        "    # Remove numbers\n",
        "    text = re.sub(r'\\d+', '', text)\n",
        "\n",
        "    # Remove punctuation\n",
        "    text = text.translate(str.maketrans(' ', ' ', string.punctuation))\n",
        "    text = ' '.join(text.split())# drop white spaces\n",
        "\n",
        "\n",
        "    #stamming\n",
        "\n",
        "    stemmer = PorterStemmer()\n",
        "    text = ' '.join([stemmer.stem(word) for word in text.split()])\n",
        "\n",
        "    #remove stopwords\n",
        "    stop_words = set(stopwords.words('english'))\n",
        "    text = ' '.join([word for word in text.split() if word not in stop_words])\n",
        "    return text\n"
      ]
    },
    {
      "cell_type": "code",
      "execution_count": 5,
      "id": "dWxcXoewNL0t",
      "metadata": {
        "id": "dWxcXoewNL0t"
      },
      "outputs": [],
      "source": [
        "dataset_name = 'newsgroup'\n",
        "\n",
        "if dataset_name == 'bbc':\n",
        "    documents = bbc_texts\n",
        "    true_labels = bbc_labels\n",
        "    test_ratio = 0.2\n",
        "    do_preprocess = True\n",
        "elif dataset_name == 'newsgroup':\n",
        "    documents = newsgroup_text\n",
        "    true_labels = newsgroup_labels\n",
        "    test_ratio = 0.05\n",
        "    do_preprocess = True\n"
      ]
    },
    {
      "cell_type": "code",
      "execution_count": 6,
      "id": "nfQkP2RoNOJ4",
      "metadata": {
        "colab": {
          "base_uri": "https://localhost:8080/"
        },
        "id": "nfQkP2RoNOJ4",
        "outputId": "b55a9be9-c612-4ceb-c28e-8161b522d711"
      },
      "outputs": [
        {
          "name": "stderr",
          "output_type": "stream",
          "text": [
            "100%|██████████| 17849/17849 [01:26<00:00, 205.70it/s]\n"
          ]
        }
      ],
      "source": [
        "from tqdm import tqdm\n",
        "documents = [preprocess_text(doc,do_preprocess) for doc in tqdm(documents)]\n"
      ]
    },
    {
      "cell_type": "code",
      "execution_count": 7,
      "id": "MQ-CArQVNQGz",
      "metadata": {
        "id": "MQ-CArQVNQGz"
      },
      "outputs": [],
      "source": [
        "# Step 2: Split the dataset 80-20 into train and test sets\n",
        "train_docs, test_docs, train_labels, test_labels = train_test_split(documents, true_labels, test_size=test_ratio, random_state=42)\n",
        "\n",
        "df = pd.DataFrame({'text':train_docs,'label':train_labels,'div':'train'})\n",
        "df2 = pd.DataFrame({'text':test_docs,'label':test_labels,'div':'test'})\n",
        "\n",
        "df = pd.concat([df,df2],ignore_index=True)\n",
        "del df2\n",
        "\n",
        "df['tok'] = df['text'].apply(lambda x: x.split())\n"
      ]
    },
    {
      "cell_type": "code",
      "execution_count": 8,
      "id": "232d06b7",
      "metadata": {
        "id": "232d06b7"
      },
      "outputs": [],
      "source": [
        "dictionary = gensim.corpora.Dictionary(df[df['div']=='train']['tok'].to_numpy())\n",
        "bow_corpus = [dictionary.doc2bow(doc) for doc in df.tok]\n"
      ]
    },
    {
      "cell_type": "markdown",
      "id": "ZQKY5iT-5caL",
      "metadata": {
        "id": "ZQKY5iT-5caL"
      },
      "source": [
        "# ETM"
      ]
    },
    {
      "cell_type": "code",
      "execution_count": 9,
      "id": "nkR8ccwG5gkF",
      "metadata": {
        "id": "nkR8ccwG5gkF"
      },
      "outputs": [],
      "source": [
        "%%capture\n",
        "! pip install fasttext"
      ]
    },
    {
      "cell_type": "code",
      "execution_count": 58,
      "id": "U8754EUzejaL",
      "metadata": {
        "id": "U8754EUzejaL"
      },
      "outputs": [],
      "source": [
        "del model"
      ]
    },
    {
      "cell_type": "code",
      "execution_count": 10,
      "id": "aHBZwGquIWe4",
      "metadata": {
        "id": "aHBZwGquIWe4"
      },
      "outputs": [],
      "source": [
        "import fasttext\n",
        "import fasttext.util\n",
        "from sklearn.cluster import KMeans\n",
        "\n",
        "# ft_model_path = fasttext.util.download_model('en', if_exists='ignore') # changed to download_model and saving the path to ft_model_path\n",
        "\n",
        "# load the model from the downloaded path\n",
        "model = fasttext.load_model('cc.en.300.bin')"
      ]
    },
    {
      "cell_type": "code",
      "execution_count": 11,
      "id": "Y3Si_XqZMvbO",
      "metadata": {
        "colab": {
          "base_uri": "https://localhost:8080/"
        },
        "id": "Y3Si_XqZMvbO",
        "outputId": "b003f966-8156-4b26-9ab9-bc5dcdb8e06a"
      },
      "outputs": [
        {
          "name": "stdout",
          "output_type": "stream",
          "text": [
            "CPU times: user 12.8 s, sys: 102 ms, total: 12.9 s\n",
            "Wall time: 23.6 s\n"
          ]
        }
      ],
      "source": [
        "%%time\n",
        "start_time = time.time()\n",
        "\n",
        "vectors = [model.get_sentence_vector(x) for x in df[df['div']=='train']['text']]\n",
        "\n",
        "end_time = time.time()\n",
        "training_time = end_time - start_time\n"
      ]
    },
    {
      "cell_type": "code",
      "execution_count": 12,
      "id": "ZaYJXD0kbmK3",
      "metadata": {
        "colab": {
          "base_uri": "https://localhost:8080/"
        },
        "id": "ZaYJXD0kbmK3",
        "outputId": "69369a5b-b8d6-4ae7-ce93-57dafc51b6a5"
      },
      "outputs": [
        {
          "data": {
            "text/plain": [
              "(300,)"
            ]
          },
          "execution_count": 12,
          "metadata": {},
          "output_type": "execute_result"
        }
      ],
      "source": [
        "vectors[0].shape"
      ]
    },
    {
      "cell_type": "code",
      "execution_count": 13,
      "id": "oR0dVRtdTSqz",
      "metadata": {
        "id": "oR0dVRtdTSqz"
      },
      "outputs": [],
      "source": [
        "TOPICS = 7"
      ]
    },
    {
      "cell_type": "code",
      "execution_count": 14,
      "id": "k-MdHNoiiVic",
      "metadata": {
        "colab": {
          "base_uri": "https://localhost:8080/",
          "height": 507
        },
        "id": "k-MdHNoiiVic",
        "outputId": "94f1d1a7-63d6-4e62-c6c3-0281bcf61e50"
      },
      "outputs": [
        {
          "name": "stdout",
          "output_type": "stream",
          "text": [
            "Best NMI: 0.336744078909426\n",
            "Best parameters: {'n_init': 6, 'max_iter': 100, 'init': 'random'}\n"
          ]
        },
        {
          "data": {
            "image/png": "[encoded data removed]",
            "text/plain": [
              "<Figure size 640x480 with 1 Axes>"
            ]
          },
          "metadata": {},
          "output_type": "display_data"
        }
      ],
      "source": [
        "import matplotlib.pyplot as plt\n",
        "\n",
        "n_init_list = [6,10]\n",
        "max_iter_list = [100, 400]\n",
        "init_list = ['k-means++','random']\n",
        "\n",
        "\n",
        "best_nmi = 0\n",
        "best_params = {}\n",
        "nmis = []\n",
        "for n_init in n_init_list:\n",
        "  for max_iter in max_iter_list:\n",
        "    for init in init_list:\n",
        "      kmeans = KMeans(n_clusters=TOPICS, n_init=n_init, max_iter=max_iter, init=init, random_state=42)\n",
        "      kmeans.fit(vectors)\n",
        "      predicted_labels = kmeans.labels_\n",
        "      nmi = normalized_mutual_info_score(train_labels, predicted_labels)\n",
        "      nmis.append(nmi)\n",
        "      if nmi > best_nmi:\n",
        "        best_nmi = nmi\n",
        "        best_params = {'n_init': n_init, 'max_iter': max_iter, 'init': init, }\n",
        "\n",
        "print(f\"Best NMI: {best_nmi}\")\n",
        "print(f\"Best parameters: {best_params}\")\n",
        "\n",
        "\n",
        "# plot nmis\n",
        "plt.plot(nmis)\n",
        "plt.xlabel('Iteration')\n",
        "plt.ylabel('NMI')\n",
        "plt.title('NMI vs Iteration')\n",
        "plt.show()\n",
        "\n",
        "# Now you can use the best parameters to train your final KMeans model\n"
      ]
    },
    {
      "cell_type": "code",
      "execution_count": 15,
      "id": "aySFgf1-Quk0",
      "metadata": {
        "colab": {
          "base_uri": "https://localhost:8080/"
        },
        "id": "aySFgf1-Quk0",
        "outputId": "bbe52625-71b9-4dad-dc29-cf401acc52a8"
      },
      "outputs": [
        {
          "name": "stdout",
          "output_type": "stream",
          "text": [
            "CPU times: user 9.14 s, sys: 44.7 ms, total: 9.19 s\n",
            "Wall time: 9.27 s\n"
          ]
        }
      ],
      "source": [
        "%%time\n",
        "start_time = time.time()\n",
        "\n",
        "kmeans = KMeans(n_clusters=TOPICS, **best_params, random_state=42)\n",
        "kmeans.fit(vectors)\n",
        "topics = kmeans.predict(vectors)\n",
        "\n",
        "end_time = time.time()\n",
        "training_time = training_time + end_time - start_time"
      ]
    },
    {
      "cell_type": "code",
      "execution_count": 16,
      "id": "I8mq6OwDnKdB",
      "metadata": {
        "colab": {
          "base_uri": "https://localhost:8080/"
        },
        "id": "I8mq6OwDnKdB",
        "outputId": "dcfc9e58-767e-42e9-ee80-85767bdbe3a8"
      },
      "outputs": [
        {
          "name": "stdout",
          "output_type": "stream",
          "text": [
            "CPU times: user 485 ms, sys: 8.3 ms, total: 494 ms\n",
            "Wall time: 489 ms\n"
          ]
        }
      ],
      "source": [
        "%%time\n",
        "start_time = time.time()\n",
        "\n",
        "test_vectors = [model.get_sentence_vector(x) for x in df[df['div']=='test']['text']]\n",
        "test_topics = kmeans.predict(test_vectors)\n",
        "\n",
        "end_time = time.time()\n",
        "testing_time = end_time - start_time"
      ]
    },
    {
      "cell_type": "code",
      "execution_count": 17,
      "id": "MaOUxE8-nEOq",
      "metadata": {
        "colab": {
          "base_uri": "https://localhost:8080/"
        },
        "id": "MaOUxE8-nEOq",
        "outputId": "c4cfcbfa-ff7c-468b-ee37-54b98d194e86"
      },
      "outputs": [
        {
          "name": "stdout",
          "output_type": "stream",
          "text": [
            "Test Purity: 0.6024636058230683\n",
            "Test NMI: 0.3443756570704122\n"
          ]
        }
      ],
      "source": [
        "# Step 5: Evaluate the model using Purity and NMI on test data\n",
        "\n",
        "# 5.1 Helper function to compute purity\n",
        "def calculate_purity(topics, true_labels):\n",
        "    df = pd.DataFrame({'Topic': topics, 'True Label': true_labels})\n",
        "    majority_count = 0\n",
        "    for topic, group in df.groupby('Topic'):\n",
        "        majority_class = group['True Label'].mode()[0]\n",
        "        majority_count += (group['True Label'] == majority_class).sum()\n",
        "    purity = majority_count / len(df)\n",
        "    return purity\n",
        "\n",
        "# Step 6: Compute Purity and NMI for test data\n",
        "test_purity = calculate_purity(test_topics, test_labels)\n",
        "test_nmi = normalized_mutual_info_score(test_labels, test_topics)\n",
        "\n",
        "# Step 7: Output results\n",
        "print(f\"Test Purity: {test_purity}\")\n",
        "print(f\"Test NMI: {test_nmi}\")"
      ]
    },
    {
      "cell_type": "code",
      "execution_count": 18,
      "id": "iHtTJnusn53A",
      "metadata": {
        "id": "iHtTJnusn53A"
      },
      "outputs": [],
      "source": [
        "from scipy import stats\n",
        "\n",
        "\n",
        "# Step 1: Create a DataFrame for training data\n",
        "train_df = pd.DataFrame({\n",
        "    'topic': topics,\n",
        "    'label': train_labels\n",
        "})\n",
        "\n",
        "# Step 2: Group by 'topic' and count how many of each label there are for each topic in the training data\n",
        "train_topic_label_counts = train_df.groupby(['topic', 'label']).size().unstack(fill_value=0)\n",
        "\n",
        "# Step 3: Assign the mode (most frequent label) for each topic in the training data\n",
        "topic_to_mode_label = train_df.groupby('topic')['label'].agg(lambda x: stats.mode(x)[0])\n",
        "\n",
        "# Step 4: Map the predicted test topics to actual labels using the mapping from training data\n",
        "mapped_test_labels = [topic_to_mode_label.get(topic, None) for topic in test_topics]\n",
        "\n",
        "# Create a DataFrame to combine mapped test labels and actual test labels\n",
        "test_results_df = pd.DataFrame({\n",
        "    'predicted_label': mapped_test_labels,\n",
        "    'true_label': test_labels\n",
        "})\n",
        "\n"
      ]
    },
    {
      "cell_type": "code",
      "execution_count": 19,
      "id": "etDRB0axn_7W",
      "metadata": {
        "colab": {
          "base_uri": "https://localhost:8080/"
        },
        "id": "etDRB0axn_7W",
        "outputId": "4b9a5358-6591-430a-87f4-6583d1ef8dbc"
      },
      "outputs": [
        {
          "name": "stdout",
          "output_type": "stream",
          "text": [
            "              precision    recall  f1-score   support\n",
            "\n",
            "           0      0.413     0.452     0.432        42\n",
            "           1      0.465     0.418     0.440       141\n",
            "           2      0.561     0.755     0.643        49\n",
            "           3      0.490     0.479     0.485       213\n",
            "           4      0.750     0.826     0.786       109\n",
            "           5      0.858     0.669     0.752       281\n",
            "           6      0.355     0.655     0.461        58\n",
            "\n",
            "    accuracy                          0.597       893\n",
            "   macro avg      0.556     0.608     0.571       893\n",
            "weighted avg      0.625     0.597     0.603       893\n",
            "\n"
          ]
        }
      ],
      "source": [
        "from sklearn.metrics import classification_report\n",
        "print(classification_report(test_results_df.true_label,test_results_df.predicted_label,digits=3))"
      ]
    },
    {
      "cell_type": "code",
      "execution_count": 20,
      "id": "3jkIvSDuoW6R",
      "metadata": {
        "colab": {
          "base_uri": "https://localhost:8080/"
        },
        "id": "3jkIvSDuoW6R",
        "outputId": "c3444bc4-1feb-44e2-8e31-36f76089be57"
      },
      "outputs": [
        {
          "name": "stdout",
          "output_type": "stream",
          "text": [
            "Classification report saved to 'Topic_modeling_classification_report.xlsx' in sheet 'ETM_newsgroup_15'\n"
          ]
        }
      ],
      "source": [
        "# Generate classification report\n",
        "report = classification_report(test_results_df.predicted_label,test_results_df.true_label,digits=3, output_dict=True)\n",
        "\n",
        "report['purity'] = test_purity\n",
        "report['nmi'] = test_nmi\n",
        "report['training_time'] = training_time\n",
        "report['testing_time'] = testing_time\n",
        "# Convert the report to a DataFrame\n",
        "report_df = pd.DataFrame(report).transpose()\n",
        "\n",
        "# Specify the file path and sheet name\n",
        "file_path = 'Topic_modeling_classification_report.xlsx'\n",
        "sheet_name = f'ETM_{dataset_name}_{TOPICS}'\n",
        "\n",
        "# Write the DataFrame to an Excel sheet\n",
        "with pd.ExcelWriter(file_path, engine='openpyxl',  mode='a', if_sheet_exists='new') as writer:\n",
        "    report_df.to_excel(writer, sheet_name=sheet_name)\n",
        "\n",
        "print(f\"Classification report saved to '{file_path}' in sheet '{sheet_name}'\")\n"
      ]
    },
    {
      "cell_type": "code",
      "execution_count": 20,
      "id": "IYz1u3FFd-kP",
      "metadata": {
        "id": "IYz1u3FFd-kP"
      },
      "outputs": [],
      "source": []
    }
  ],
  "metadata": {
    "accelerator": "GPU",
    "colab": {
      "gpuType": "T4",
      "provenance": []
    },
    "kernelspec": {
      "display_name": "Python 3",
      "name": "python3"
    },
    "language_info": {
      "codemirror_mode": {
        "name": "ipython",
        "version": 3
      },
      "file_extension": ".py",
      "mimetype": "text/x-python",
      "name": "python",
      "nbconvert_exporter": "python",
      "pygments_lexer": "ipython3",
      "version": "3.8.9"
    }
  },
  "nbformat": 4,
  "nbformat_minor": 5
}
