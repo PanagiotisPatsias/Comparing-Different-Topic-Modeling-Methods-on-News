{
 "cells": [
  {
   "cell_type": "code",
   "execution_count": null,
   "metadata": {},
   "outputs": [],
   "source": [
    "import numpy as np\n",
    "import pandas as pd\n",
    "import matplotlib.pyplot as plt"
   ]
  },
  {
   "cell_type": "markdown",
   "metadata": {},
   "source": [
    "## BBC Dataset"
   ]
  },
  {
   "cell_type": "code",
   "execution_count": null,
   "metadata": {},
   "outputs": [],
   "source": [
    "data = {\n",
    "    'Model': ['LDA', 'NMF', 'mpnet_v1', 'mpnet_v2', 'fasttext', 'Llama-8B', 'Gemini pro'],\n",
    "    'Purity': [0.72, 0.70, 0.88, 0.87, 0.87, 0.93, 0.96],\n",
    "    'NMI': [0.59, 0.45, 0.66, 0.58, 0.74, 0.83, 0.89],\n",
    "    'F1-score': [0.66, 0.70, 0.88, 0.86, 0.86, 0.93, 0.96],\n",
    "    'Accuracy': [0.72, 0.70, 0.87, 0.85, 0.87, 0.93, 0.96]\n",
    "}\n",
    "# Data from the table\n",
    "\n",
    "# Convert to DataFrame\n",
    "df = pd.DataFrame(data)\n",
    "metrics = ['Purity', 'NMI', 'F1-score', 'Accuracy']\n",
    "\n",
    "\n",
    "\n",
    "# Set up the figure and axes\n",
    "fig, ax = plt.subplots(figsize=(12, 6))\n",
    "\n",
    "# Number of models and metrics for grouping\n",
    "num_models = len(data['Model'])\n",
    "num_metrics = len(metrics)\n",
    "bar_width = 0.2  # Width of each bar\n",
    "x = np.arange(num_models)  # Locations for the groups\n",
    "\n",
    "# Plot each metric as a bar chart with reduced opacity and custom colors\n",
    "for i, metric in enumerate(metrics):\n",
    "    ax.bar(x + i * bar_width, df[metric], width=bar_width,  alpha=1, label=metric)\n",
    "\n",
    "# Labeling\n",
    "ax.set_xlabel(\"Model\")\n",
    "ax.set_ylabel(\"Scores\")\n",
    "ax.set_title(\"Model Performance Metrics in BBC Dataset\")\n",
    "ax.set_xticks(x + bar_width * (num_metrics - 1) / 2)\n",
    "ax.set_xticklabels(data['Model'])\n",
    "ax.legend(title=\"Metrics\")\n",
    "\n",
    "plt.show()\n"
   ]
  },
  {
   "cell_type": "markdown",
   "metadata": {},
   "source": [
    "## newsgroup Dataset"
   ]
  },
  {
   "cell_type": "code",
   "execution_count": null,
   "metadata": {},
   "outputs": [],
   "source": [
    "# Data from the table\n",
    "\n",
    "data = {\n",
    "    'Model': ['LDA', 'NMF', 'mpnet_v1', 'mpnet_v2', 'fasttext', 'Llama-8B', 'Gemini pro'],\n",
    "    'Purity': [0.55, 0.37, 0.67, 0.68, 0.60, 0.71, 0.79],\n",
    "    'NMI': [0.38, 0.16, 0.38, 0.38, 0.34, 0.50, 0.67],\n",
    "    'F1-score': [0.51, 0.48, 0.65, 0.66, 0.60, 0.68, 0.79],\n",
    "    'Accuracy': [0.56, 0.37, 0.66, 0.68, 0.60, 0.68, 0.79]\n",
    "}\n",
    "\n",
    "# Convert to DataFrame\n",
    "df = pd.DataFrame(data)\n",
    "metrics = ['Purity', 'NMI', 'F1-score', 'Accuracy']\n",
    "\n",
    "\n",
    "\n",
    "# Set up the figure and axes\n",
    "fig, ax = plt.subplots(figsize=(12, 6))\n",
    "\n",
    "# Number of models and metrics for grouping\n",
    "num_models = len(data['Model'])\n",
    "num_metrics = len(metrics)\n",
    "bar_width = 0.2  # Width of each bar\n",
    "x = np.arange(num_models)  # Locations for the groups\n",
    "\n",
    "# Plot each metric as a bar chart with reduced opacity and custom colors\n",
    "for i, metric in enumerate(metrics):\n",
    "    ax.bar(x + i * bar_width, df[metric], width=bar_width,  alpha=1, label=metric)\n",
    "\n",
    "# Labeling\n",
    "ax.set_xlabel(\"Model\")\n",
    "ax.set_ylabel(\"Scores\")\n",
    "ax.set_title(\"Model Performance Metrics in newsgroups Dataset\")\n",
    "ax.set_xticks(x + bar_width * (num_metrics - 1) / 2)\n",
    "ax.set_xticklabels(data['Model'])\n",
    "ax.legend(title=\"Metrics\")\n",
    "\n",
    "plt.show()"
   ]
  }
 ],
 "metadata": {
  "language_info": {
   "name": "python"
  }
 },
 "nbformat": 4,
 "nbformat_minor": 2
}
